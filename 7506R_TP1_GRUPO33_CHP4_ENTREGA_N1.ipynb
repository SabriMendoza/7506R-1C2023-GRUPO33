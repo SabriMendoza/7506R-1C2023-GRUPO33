{
  "nbformat": 4,
  "nbformat_minor": 0,
  "metadata": {
    "colab": {
      "provenance": [],
      "toc_visible": true,
      "include_colab_link": true
    },
    "kernelspec": {
      "name": "python3",
      "display_name": "Python 3"
    },
    "language_info": {
      "name": "python"
    }
  },
  "cells": [
    {
      "cell_type": "markdown",
      "metadata": {
        "id": "view-in-github",
        "colab_type": "text"
      },
      "source": [
        "<a href=\"https://colab.research.google.com/github/SabriMendoza/7506R-1C2023-GRUPO33/blob/main/7506R_TP1_GRUPO33_CHP4_ENTREGA_N1.ipynb\" target=\"_parent\"><img src=\"https://colab.research.google.com/assets/colab-badge.svg\" alt=\"Open In Colab\"/></a>"
      ]
    },
    {
      "cell_type": "markdown",
      "source": [
        "#Trabajo practico 1: Reserva de Hotel"
      ],
      "metadata": {
        "id": "1maL04GPa8ee"
      }
    },
    {
      "cell_type": "markdown",
      "source": [
        "Grupo 33\n",
        "\n",
        "Integrantes:\n",
        "1.   Mendoza Hernandez, Sabrina Scarlet (108524)\n",
        "2.   Valeriani, Matias Gabriel (108570)\n",
        "3.   Jang, Lucas (109151)\n"
      ],
      "metadata": {
        "id": "AxxD2Ck-bCDA"
      }
    },
    {
      "cell_type": "markdown",
      "source": [
        "#Importar librerias"
      ],
      "metadata": {
        "id": "MXY-npBCbD6z"
      }
    },
    {
      "cell_type": "code",
      "source": [
        "#datos\n",
        "import numpy as np\n",
        "import pandas as pd\n",
        "\n",
        "#Plots\n",
        "import matplotlib.pyplot as plt\n",
        "import seaborn as sns\n",
        "\n",
        "#Modelado\n",
        "from sklearn.model_selection import RandomizedSearchCV, train_test_split, cross_val_score, RepeatedStratifiedKFold\n",
        "from sklearn.metrics import precision_score, recall_score, accuracy_score, confusion_matrix, classification_report , f1_score, precision_score, make_scorer, roc_auc_score\n",
        "from sklearn.preprocessing import StandardScaler, OneHotEncoder\n",
        "from sklearn.metrics import confusion_matrix\n",
        "\n",
        "\n",
        "import tensorflow as tf\n",
        "from tensorflow import keras\n",
        "from keras.utils.vis_utils import plot_model\n",
        "from keras.wrappers.scikit_learn import KerasClassifier  \n",
        "\n",
        "# import visualkeras\n",
        "np.random.seed(1)\n",
        "tf.random.set_seed(1) \n",
        "\n",
        "#Warnings\n",
        "import warnings\n",
        "warnings.simplefilter(action='ignore', category=FutureWarning)\n",
        "from sklearn.exceptions import DataConversionWarning\n",
        "warnings.filterwarnings(action='ignore', category=DataConversionWarning)"
      ],
      "metadata": {
        "id": "abO8_SgDcI3s"
      },
      "execution_count": 1,
      "outputs": []
    },
    {
      "cell_type": "markdown",
      "source": [
        "#Matriz de confusión y metricas a considerar"
      ],
      "metadata": {
        "id": "bCXDS4BYAHJx"
      }
    },
    {
      "cell_type": "markdown",
      "source": [
        "![matriz confusion.png](data:image/png;base64,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)"
      ],
      "metadata": {
        "id": "18VdNF-EALfL"
      }
    },
    {
      "cell_type": "markdown",
      "source": [
        "TP: True Positive (verdaderos positivos)\n",
        "\n",
        "FP: False Positive (falsos positivos)\n",
        "\n",
        "FN: False Negative (falsos negativos)\n",
        "\n",
        "TN: True Negative (verdaderos negativos)"
      ],
      "metadata": {
        "id": "R1dgyM4UAP6R"
      }
    },
    {
      "cell_type": "markdown",
      "source": [
        "Las métricas que consideraremos, se calculan a partir de los datos brindados en la matriz de confusion. Con esta matriz se puede obtener precision, recall, f1 score y accuracy. \n",
        "\n",
        "* La precisión (**precision**) mide la proporción de verdaderos positivos (TP) entre los casos positivos pronosticados (TP + FP). Mide la capacidad del modelo para predecir correctamente los casos positivos.\n",
        "\n",
        "  $Precision = \\frac{TP}{TP + FP}$\n",
        "\n",
        "* El recall (**recall**) mide la proporción de verdaderos positivos (TP) entre todos los casos positivos reales (TP + FN). Mide la capacidad del modelo para encontrar todos los casos positivos.\n",
        "\n",
        "  $Recall = \\frac{TP}{TP + FN}$\n",
        "\n",
        "* El F1 score (**f1 score**) es la media armónica entre la precisión y el recall. Resume el rendimiento del modelo en términos de clasificación.\n",
        "\n",
        "  $F1 Score = 2\\frac{Precision.Recall}{Precision + Recall}$\n",
        "\n",
        "* La exactitud (**accuracy**) mide la proporción de casos totales que se clasifican correctamente (TP + TN) sobre el total de casos (TP + TN + FP + FN). Mide la capacidad del modelo para clasificar correctamente todos los casos, tanto positivos como negativos.\n",
        "\n",
        "  $Accuracy = \\frac{TP + TN}{TP + TN + FP + FN}$"
      ],
      "metadata": {
        "id": "1PBIPI1tASYY"
      }
    },
    {
      "cell_type": "markdown",
      "source": [
        "# Preparacion de los dataframes"
      ],
      "metadata": {
        "id": "Xjz6ZMueAXxI"
      }
    },
    {
      "cell_type": "markdown",
      "source": [
        "## Dataframe train"
      ],
      "metadata": {
        "id": "ObNUVGnbbW1P"
      }
    },
    {
      "cell_type": "code",
      "source": [
        "reservas = pd.read_csv(\"https://drive.google.com/uc?export=download&id=1fvs0y1EqWpmx_ZuhlSEzFjwCI0HZGCxv\")\n",
        "hotels = reservas.copy()\n",
        "hotels.info()"
      ],
      "metadata": {
        "colab": {
          "base_uri": "https://localhost:8080/"
        },
        "id": "sFeXfdkzbrpv",
        "outputId": "451a7b68-9d2c-4efb-f17d-a5183ca4f869"
      },
      "execution_count": 2,
      "outputs": [
        {
          "output_type": "stream",
          "name": "stdout",
          "text": [
            "<class 'pandas.core.frame.DataFrame'>\n",
            "RangeIndex: 60679 entries, 0 to 60678\n",
            "Data columns (total 42 columns):\n",
            " #   Column                          Non-Null Count  Dtype  \n",
            "---  ------                          --------------  -----  \n",
            " 0   lead_time                       60679 non-null  int64  \n",
            " 1   arrival_date_year               60679 non-null  int64  \n",
            " 2   arrival_date_week_number        60679 non-null  int64  \n",
            " 3   adults                          60679 non-null  int64  \n",
            " 4   children                        60679 non-null  int64  \n",
            " 5   is_repeated_guest               60679 non-null  int64  \n",
            " 6   previous_cancellations          60679 non-null  int64  \n",
            " 7   previous_bookings_not_canceled  60679 non-null  int64  \n",
            " 8   booking_changes                 60679 non-null  int64  \n",
            " 9   agent                           60679 non-null  float64\n",
            " 10  days_in_waiting_list            60679 non-null  int64  \n",
            " 11  adr                             60679 non-null  float64\n",
            " 12  required_car_parking_spaces     60679 non-null  int64  \n",
            " 13  total_of_special_requests       60679 non-null  int64  \n",
            " 14  is_canceled                     60679 non-null  int64  \n",
            " 15  total_nights                    60679 non-null  int64  \n",
            " 16  hotel_City Hotel                60679 non-null  int64  \n",
            " 17  hotel_Resort Hotel              60679 non-null  int64  \n",
            " 18  country_DEU                     60679 non-null  int64  \n",
            " 19  country_ESP                     60679 non-null  int64  \n",
            " 20  country_FRA                     60679 non-null  int64  \n",
            " 21  country_GBR                     60679 non-null  int64  \n",
            " 22  country_Other country           60679 non-null  int64  \n",
            " 23  country_PRT                     60679 non-null  int64  \n",
            " 24  market_segment_Aviation         60679 non-null  int64  \n",
            " 25  market_segment_Complementary    60679 non-null  int64  \n",
            " 26  market_segment_Corporate        60679 non-null  int64  \n",
            " 27  market_segment_Direct           60679 non-null  int64  \n",
            " 28  market_segment_Groups           60679 non-null  int64  \n",
            " 29  market_segment_Offline TA/TO    60679 non-null  int64  \n",
            " 30  market_segment_Online TA        60679 non-null  int64  \n",
            " 31  distribution_channel_Corporate  60679 non-null  int64  \n",
            " 32  distribution_channel_Direct     60679 non-null  int64  \n",
            " 33  distribution_channel_GDS        60679 non-null  int64  \n",
            " 34  distribution_channel_TA/TO      60679 non-null  int64  \n",
            " 35  deposit_type_No Deposit         60679 non-null  int64  \n",
            " 36  deposit_type_Non Refund         60679 non-null  int64  \n",
            " 37  deposit_type_Refundable         60679 non-null  int64  \n",
            " 38  customer_type_Contract          60679 non-null  int64  \n",
            " 39  customer_type_Group             60679 non-null  int64  \n",
            " 40  customer_type_Transient         60679 non-null  int64  \n",
            " 41  customer_type_Transient-Party   60679 non-null  int64  \n",
            "dtypes: float64(2), int64(40)\n",
            "memory usage: 19.4 MB\n"
          ]
        }
      ]
    },
    {
      "cell_type": "markdown",
      "source": [
        "* Dividimos las variables por un lado, y el target *is_canceled* por el otro, haciendo dataframes para cada caso. Posteriormente separamos en *x_train, x_test, y_train, y_test*\n"
      ],
      "metadata": {
        "id": "3zlsAm4J0RaW"
      }
    },
    {
      "cell_type": "code",
      "source": [
        "hotels_train = hotels.copy()\n",
        "#hotels_train.drop('id', axis='columns', inplace=True)\n",
        "\n",
        "target = 'is_canceled'\n",
        "features = hotels.columns.tolist()\n",
        "features.remove(target)\n",
        "\n",
        "#Features\n",
        "features_para_clasificar = hotels_train.columns.tolist()\n",
        "features_para_clasificar.remove(target)\n",
        "df_train_completo_x = hotels_train[features_para_clasificar]\n",
        "\n",
        "#Target\n",
        "df_train_completo_y = hotels_train[target].copy()\n",
        "\n",
        "x_train, x_test, y_train, y_test = train_test_split(df_train_completo_x, \n",
        "                                                    df_train_completo_y, \n",
        "                                                    test_size=0.20, #20% al conjunto de test\n",
        "                                                    random_state=13)"
      ],
      "metadata": {
        "id": "UQLZxNm6bwfC"
      },
      "execution_count": 3,
      "outputs": []
    },
    {
      "cell_type": "markdown",
      "source": [
        "# Funciones Auxiliares"
      ],
      "metadata": {
        "id": "60qQULkjxS23"
      }
    },
    {
      "cell_type": "markdown",
      "source": [
        "* Función auxiliar *metricas(y_pred, y_test)* para mostrar la matriz de confusión con sus respectivas métricas encontradas."
      ],
      "metadata": {
        "id": "6QxHaZeQ2XSn"
      }
    },
    {
      "cell_type": "code",
      "source": [
        "def metricas(y_pred,y_test):\n",
        "\n",
        "  print(classification_report(y_test,y_pred))\n",
        "  \n",
        "  cm = confusion_matrix(y_test,y_pred)\n",
        "  sns.heatmap(cm, cmap='YlOrRd',annot=True,fmt='g')\n",
        "  plt.xlabel('Predicted')\n",
        "  plt.ylabel('True')"
      ],
      "metadata": {
        "id": "QLNvqPQIxXA6"
      },
      "execution_count": 4,
      "outputs": []
    },
    {
      "cell_type": "markdown",
      "source": [
        "## Normalizacion de Datos "
      ],
      "metadata": {
        "id": "W9CZYqSlFJdF"
      }
    },
    {
      "cell_type": "markdown",
      "source": [
        "Realizamos dos etapas de preprocesamiento de datos: codificación one-hot y escalado estándar. OneHotEncoder se utiliza para codificar variables categóricas y convertirlas en características numéricas, mientras que StandardScaler se utiliza para estandarizar características numéricas y asegurarse de que estén en una escala similar."
      ],
      "metadata": {
        "id": "zKV4prSh23eb"
      }
    },
    {
      "cell_type": "code",
      "source": [
        "enc = OneHotEncoder()\n",
        "y_train_encoder = enc.fit_transform(y_train[:, np.newaxis]).toarray()\n",
        "y_test_encoder = enc.transform(y_test[:, np.newaxis]).toarray()\n",
        "\n",
        "scaler=StandardScaler()\n",
        "x_train_norm = scaler.fit_transform(x_train) \n",
        "x_test_norm  = scaler.transform(x_test)"
      ],
      "metadata": {
        "id": "JHfkZO2_FOVf"
      },
      "execution_count": 5,
      "outputs": []
    },
    {
      "cell_type": "markdown",
      "source": [
        "## Dataframe test"
      ],
      "metadata": {
        "id": "oxTlivzgbZfU"
      }
    },
    {
      "cell_type": "markdown",
      "source": [
        "* Cargamos el dataset de test para guardarnos el id, luego cargaremos el que ya esta procesado con los features requeridos"
      ],
      "metadata": {
        "id": "7sCvtlB10UQC"
      }
    },
    {
      "cell_type": "markdown",
      "source": [
        "El siguiente nos servirá unicamente para guardarnos el *id*"
      ],
      "metadata": {
        "id": "kEg_bQzH0V7i"
      }
    },
    {
      "cell_type": "code",
      "source": [
        "reservas_test = pd.read_csv(\"https://drive.google.com/uc?export=download&id=1-5FFQZp2NmEqpBDGCD17e0QM0_AF7Ht2\")\n",
        "hotels_test = reservas_test.copy()"
      ],
      "metadata": {
        "id": "ROOA2mERb0zD"
      },
      "execution_count": 6,
      "outputs": []
    },
    {
      "cell_type": "markdown",
      "source": [
        "*hotels_test_* nos servirá para testear nuestro modelo y generar las predicciones que subiremos a Kaggle."
      ],
      "metadata": {
        "id": "tAmg8O3b0X3O"
      }
    },
    {
      "cell_type": "code",
      "source": [
        "test = pd.read_csv(\"https://drive.google.com/uc?export=download&id=1OVHmmfGCqK_U1i404zGn5vVQPqh7aHuN\")\n",
        "hotels_test_ = test.copy()\n",
        "hotels_test_.info()"
      ],
      "metadata": {
        "colab": {
          "base_uri": "https://localhost:8080/"
        },
        "id": "v_3Eghjkb31N",
        "outputId": "afec098b-e6b5-4ecd-c820-8be0d7a36dc6"
      },
      "execution_count": 7,
      "outputs": [
        {
          "output_type": "stream",
          "name": "stdout",
          "text": [
            "<class 'pandas.core.frame.DataFrame'>\n",
            "RangeIndex: 26535 entries, 0 to 26534\n",
            "Data columns (total 41 columns):\n",
            " #   Column                          Non-Null Count  Dtype  \n",
            "---  ------                          --------------  -----  \n",
            " 0   lead_time                       26535 non-null  int64  \n",
            " 1   arrival_date_year               26535 non-null  int64  \n",
            " 2   arrival_date_week_number        26535 non-null  int64  \n",
            " 3   adults                          26535 non-null  int64  \n",
            " 4   children                        26535 non-null  int64  \n",
            " 5   is_repeated_guest               26535 non-null  int64  \n",
            " 6   previous_cancellations          26535 non-null  int64  \n",
            " 7   previous_bookings_not_canceled  26535 non-null  int64  \n",
            " 8   booking_changes                 26535 non-null  int64  \n",
            " 9   agent                           26535 non-null  float64\n",
            " 10  days_in_waiting_list            26535 non-null  int64  \n",
            " 11  adr                             26535 non-null  float64\n",
            " 12  required_car_parking_spaces     26535 non-null  int64  \n",
            " 13  total_of_special_requests       26535 non-null  int64  \n",
            " 14  total_nights                    26535 non-null  int64  \n",
            " 15  hotel_City Hotel                26535 non-null  int64  \n",
            " 16  hotel_Resort Hotel              26535 non-null  int64  \n",
            " 17  country_DEU                     26535 non-null  int64  \n",
            " 18  country_ESP                     26535 non-null  int64  \n",
            " 19  country_FRA                     26535 non-null  int64  \n",
            " 20  country_GBR                     26535 non-null  int64  \n",
            " 21  country_Other country           26535 non-null  int64  \n",
            " 22  country_PRT                     26535 non-null  int64  \n",
            " 23  market_segment_Aviation         26535 non-null  int64  \n",
            " 24  market_segment_Complementary    26535 non-null  int64  \n",
            " 25  market_segment_Corporate        26535 non-null  int64  \n",
            " 26  market_segment_Direct           26535 non-null  int64  \n",
            " 27  market_segment_Groups           26535 non-null  int64  \n",
            " 28  market_segment_Offline TA/TO    26535 non-null  int64  \n",
            " 29  market_segment_Online TA        26535 non-null  int64  \n",
            " 30  distribution_channel_Corporate  26535 non-null  int64  \n",
            " 31  distribution_channel_Direct     26535 non-null  int64  \n",
            " 32  distribution_channel_GDS        26535 non-null  int64  \n",
            " 33  distribution_channel_TA/TO      26535 non-null  int64  \n",
            " 34  deposit_type_No Deposit         26535 non-null  int64  \n",
            " 35  deposit_type_Non Refund         26535 non-null  int64  \n",
            " 36  deposit_type_Refundable         26535 non-null  int64  \n",
            " 37  customer_type_Contract          26535 non-null  int64  \n",
            " 38  customer_type_Group             26535 non-null  int64  \n",
            " 39  customer_type_Transient         26535 non-null  int64  \n",
            " 40  customer_type_Transient-Party   26535 non-null  int64  \n",
            "dtypes: float64(2), int64(39)\n",
            "memory usage: 8.3 MB\n"
          ]
        }
      ]
    },
    {
      "cell_type": "markdown",
      "source": [
        "# Red Neuronal: Clasificacion\n"
      ],
      "metadata": {
        "id": "jlYLM1OTbeCM"
      }
    },
    {
      "cell_type": "markdown",
      "source": [
        "## Modelo"
      ],
      "metadata": {
        "id": "FgBk1Dr4hkZC"
      }
    },
    {
      "cell_type": "markdown",
      "source": [
        "* El modelo descrito a continuacion es una red neuronal con dos capas ocultas de 64 unidades cada una, y una capa de salida con un número de unidades igual al número de clases en los datos. La capa de entrada (input_shape=(d_in,)) tiene 64 neuronas y utiliza la función de activación ReLU, al igual que la otra capa oculta. La capa de salida tiene un número de neuronas igual a la cantidad de clases (cant_clases) y utiliza la función de activación sigmoide."
      ],
      "metadata": {
        "id": "ZFS40HLO4I6p"
      }
    },
    {
      "cell_type": "code",
      "source": [
        "cant_clases=len(np.unique(df_train_completo_y))\n",
        "d_in=len(features_para_clasificar)\n",
        "\n",
        "modelo = keras.Sequential([\n",
        "    keras.layers.Dense(64,input_shape=(d_in,), activation='relu', kernel_initializer='uniform'),\n",
        "    keras.layers.Dense(64,activation='relu'),\n",
        "    keras.layers.Dense(cant_clases, activation='sigmoid')])\n",
        "\n",
        "modelo.summary()"
      ],
      "metadata": {
        "colab": {
          "base_uri": "https://localhost:8080/"
        },
        "id": "9sj1ciBBhoM1",
        "outputId": "b5c9ee01-0f57-4529-8b9e-60c71a1f2545"
      },
      "execution_count": 8,
      "outputs": [
        {
          "output_type": "stream",
          "name": "stdout",
          "text": [
            "Model: \"sequential\"\n",
            "_________________________________________________________________\n",
            " Layer (type)                Output Shape              Param #   \n",
            "=================================================================\n",
            " dense (Dense)               (None, 64)                2688      \n",
            "                                                                 \n",
            " dense_1 (Dense)             (None, 64)                4160      \n",
            "                                                                 \n",
            " dense_2 (Dense)             (None, 2)                 130       \n",
            "                                                                 \n",
            "=================================================================\n",
            "Total params: 6,978\n",
            "Trainable params: 6,978\n",
            "Non-trainable params: 0\n",
            "_________________________________________________________________\n"
          ]
        }
      ]
    },
    {
      "cell_type": "markdown",
      "source": [
        "Se configura el modelo para el entrenamiento especificando el optimizador, la función de pérdida y las métricas de evaluación. Luego, se entrena el modelo utilizando los datos de entrenamiento y se especifican los parámetros de entrenamiento, como el número de epochs y el batch_size."
      ],
      "metadata": {
        "id": "FkJGCgWe5AHh"
      }
    },
    {
      "cell_type": "code",
      "source": [
        "modelo.compile(\n",
        "  optimizer=keras.optimizers.Nadam(learning_rate=0.001), \n",
        "  loss='categorical_crossentropy', \n",
        "  # metricas para ir calculando en cada iteracion o batch \n",
        "  metrics=['AUC'], \n",
        ")\n",
        "\n",
        "cant_epochs=100\n",
        "historia_modelo = modelo.fit(x_train_norm,y_train_encoder,epochs=cant_epochs,batch_size=100,verbose=False)"
      ],
      "metadata": {
        "id": "8JHgFIEjn_N4"
      },
      "execution_count": 9,
      "outputs": []
    },
    {
      "cell_type": "code",
      "source": [
        "y_pred = modelo.predict(x_test_norm)"
      ],
      "metadata": {
        "colab": {
          "base_uri": "https://localhost:8080/"
        },
        "id": "gdddsvYLoZPc",
        "outputId": "d020d472-19f2-40a0-816d-9e6d94c2b515"
      },
      "execution_count": 10,
      "outputs": [
        {
          "output_type": "stream",
          "name": "stdout",
          "text": [
            "380/380 [==============================] - 1s 2ms/step\n"
          ]
        }
      ]
    },
    {
      "cell_type": "code",
      "source": [
        "y_pred.shape"
      ],
      "metadata": {
        "colab": {
          "base_uri": "https://localhost:8080/"
        },
        "id": "ZUYDGZRFqMii",
        "outputId": "2110b37b-dc0d-4df9-de8f-ab1da358d87e"
      },
      "execution_count": 11,
      "outputs": [
        {
          "output_type": "execute_result",
          "data": {
            "text/plain": [
              "(12136, 2)"
            ]
          },
          "metadata": {},
          "execution_count": 11
        }
      ]
    },
    {
      "cell_type": "code",
      "source": [
        "y_pred_clases=np.argmax(y_pred,axis=1).tolist()\n",
        "y_test_clases=np.argmax(y_test_encoder,axis=1).tolist()\n",
        "\n",
        "metricas(y_pred_clases, y_test_clases)\n",
        "f1=f1_score(y_test_clases,y_pred_clases)\n",
        "print(\"f1 score: \"+str(f1))"
      ],
      "metadata": {
        "colab": {
          "base_uri": "https://localhost:8080/",
          "height": 623
        },
        "id": "Iqe8bWwJoS9R",
        "outputId": "b1b6f2cd-8c91-4b6f-f3ec-161bc0fa81d5"
      },
      "execution_count": 12,
      "outputs": [
        {
          "output_type": "stream",
          "name": "stdout",
          "text": [
            "              precision    recall  f1-score   support\n",
            "\n",
            "           0       0.86      0.81      0.84      6108\n",
            "           1       0.82      0.87      0.84      6028\n",
            "\n",
            "    accuracy                           0.84     12136\n",
            "   macro avg       0.84      0.84      0.84     12136\n",
            "weighted avg       0.84      0.84      0.84     12136\n",
            "\n",
            "f1 score: 0.8442973605617887\n"
          ]
        },
        {
          "output_type": "display_data",
          "data": {
            "text/plain": [
              "<Figure size 640x480 with 2 Axes>"
            ],
            "image/png": "[encoded data removed]"
          },
          "metadata": {}
        }
      ]
    },
    {
      "cell_type": "markdown",
      "source": [
        "* Trazamos un gráfico que muestra la métrica AUC en función del número de epochs durante el entrenamiento del modelo. El eje x representa los epochs mientras que el eje y representa el valor de AUC."
      ],
      "metadata": {
        "id": "SArPWSMn5UOw"
      }
    },
    {
      "cell_type": "code",
      "source": [
        "epochs = range(cant_epochs)\n",
        "\n",
        "plt.plot(epochs, historia_modelo.history['auc'], color='orange', label='AUC')\n",
        "plt.xlabel(\"epochs\")\n",
        "plt.ylabel(\"AUC\")\n",
        "plt.legend()"
      ],
      "metadata": {
        "colab": {
          "base_uri": "https://localhost:8080/",
          "height": 466
        },
        "id": "9tBHEFPNqSsz",
        "outputId": "1559833a-f713-4476-89c8-797491ae4698"
      },
      "execution_count": 13,
      "outputs": [
        {
          "output_type": "execute_result",
          "data": {
            "text/plain": [
              "<matplotlib.legend.Legend at 0x7f38ec34bd30>"
            ]
          },
          "metadata": {},
          "execution_count": 13
        },
        {
          "output_type": "display_data",
          "data": {
            "text/plain": [
              "<Figure size 640x480 with 1 Axes>"
            ],
            "image/png": "[encoded data removed]"
          },
          "metadata": {}
        }
      ]
    },
    {
      "cell_type": "markdown",
      "source": [
        "#Predicciones en el dataframe test."
      ],
      "metadata": {
        "id": "I7Tkr8g6C7Yy"
      }
    },
    {
      "cell_type": "markdown",
      "source": [
        "* Para hacer el submission con el dataset de test, primero aplicamos la transformación de escala a los datos de prueba, luego obtuvimos las predicciones, y finalmente antes de convertir a csv, #convertimos las predicciones a clases."
      ],
      "metadata": {
        "id": "5uDWnIQC1MQQ"
      }
    },
    {
      "cell_type": "code",
      "source": [
        "hotels_test_norm = scaler.transform(hotels_test_)\n",
        "y_pred = modelo.predict(hotels_test_norm)\n",
        "\n",
        "y_pred_classes = np.argmax(y_pred, axis=1)\n",
        "\n",
        "df_submission = pd.DataFrame({'id': hotels_test['id'], 'is_canceled': y_pred_classes})\n",
        "df_submission.head(10)"
      ],
      "metadata": {
        "colab": {
          "base_uri": "https://localhost:8080/",
          "height": 380
        },
        "id": "DYtYEOiA0Eds",
        "outputId": "e1fb8b38-693b-4ddd-bb9a-90dfc165e6a1"
      },
      "execution_count": 14,
      "outputs": [
        {
          "output_type": "stream",
          "name": "stdout",
          "text": [
            "830/830 [==============================] - 1s 1ms/step\n"
          ]
        },
        {
          "output_type": "execute_result",
          "data": {
            "text/plain": [
              "                                     id  is_canceled\n",
              "0  e6d0d58a-ab96-44d3-b28f-85df1cc15f1e            1\n",
              "1  aba9aac2-4495-4645-a60e-90328713c999            1\n",
              "2  b345b5dc-c804-4d77-a39f-1f4e65d1f1ad            0\n",
              "3  ce1b400e-afa1-4946-bdff-004b859eb61c            1\n",
              "4  c4fbec0d-8e2e-4db2-9d4f-a6ccb9f51214            1\n",
              "5  c142b61c-3035-46e7-8cf7-3720a29d0d61            1\n",
              "6  8c4171ad-9837-4468-ac8e-8cb3d5a41b55            1\n",
              "7  3ce60033-4529-4314-be77-db4a7737f326            1\n",
              "8  7ab807a4-5e90-4205-b66e-0188696cc34b            1\n",
              "9  a0ab0509-c8b0-4a2c-9f27-21f26e186520            0"
            ],
            "text/html": [
              "\n",
              "  <div id=\"df-88cda2cf-b1d7-4b08-b57d-182e08b5665e\">\n",
              "    <div class=\"colab-df-container\">\n",
              "      <div>\n",
              "<style scoped>\n",
              "    .dataframe tbody tr th:only-of-type {\n",
              "        vertical-align: middle;\n",
              "    }\n",
              "\n",
              "    .dataframe tbody tr th {\n",
              "        vertical-align: top;\n",
              "    }\n",
              "\n",
              "    .dataframe thead th {\n",
              "        text-align: right;\n",
              "    }\n",
              "</style>\n",
              "<table border=\"1\" class=\"dataframe\">\n",
              "  <thead>\n",
              "    <tr style=\"text-align: right;\">\n",
              "      <th></th>\n",
              "      <th>id</th>\n",
              "      <th>is_canceled</th>\n",
              "    </tr>\n",
              "  </thead>\n",
              "  <tbody>\n",
              "    <tr>\n",
              "      <th>0</th>\n",
              "      <td>e6d0d58a-ab96-44d3-b28f-85df1cc15f1e</td>\n",
              "      <td>1</td>\n",
              "    </tr>\n",
              "    <tr>\n",
              "      <th>1</th>\n",
              "      <td>aba9aac2-4495-4645-a60e-90328713c999</td>\n",
              "      <td>1</td>\n",
              "    </tr>\n",
              "    <tr>\n",
              "      <th>2</th>\n",
              "      <td>b345b5dc-c804-4d77-a39f-1f4e65d1f1ad</td>\n",
              "      <td>0</td>\n",
              "    </tr>\n",
              "    <tr>\n",
              "      <th>3</th>\n",
              "      <td>ce1b400e-afa1-4946-bdff-004b859eb61c</td>\n",
              "      <td>1</td>\n",
              "    </tr>\n",
              "    <tr>\n",
              "      <th>4</th>\n",
              "      <td>c4fbec0d-8e2e-4db2-9d4f-a6ccb9f51214</td>\n",
              "      <td>1</td>\n",
              "    </tr>\n",
              "    <tr>\n",
              "      <th>5</th>\n",
              "      <td>c142b61c-3035-46e7-8cf7-3720a29d0d61</td>\n",
              "      <td>1</td>\n",
              "    </tr>\n",
              "    <tr>\n",
              "      <th>6</th>\n",
              "      <td>8c4171ad-9837-4468-ac8e-8cb3d5a41b55</td>\n",
              "      <td>1</td>\n",
              "    </tr>\n",
              "    <tr>\n",
              "      <th>7</th>\n",
              "      <td>3ce60033-4529-4314-be77-db4a7737f326</td>\n",
              "      <td>1</td>\n",
              "    </tr>\n",
              "    <tr>\n",
              "      <th>8</th>\n",
              "      <td>7ab807a4-5e90-4205-b66e-0188696cc34b</td>\n",
              "      <td>1</td>\n",
              "    </tr>\n",
              "    <tr>\n",
              "      <th>9</th>\n",
              "      <td>a0ab0509-c8b0-4a2c-9f27-21f26e186520</td>\n",
              "      <td>0</td>\n",
              "    </tr>\n",
              "  </tbody>\n",
              "</table>\n",
              "</div>\n",
              "      <button class=\"colab-df-convert\" onclick=\"convertToInteractive('df-88cda2cf-b1d7-4b08-b57d-182e08b5665e')\"\n",
              "              title=\"Convert this dataframe to an interactive table.\"\n",
              "              style=\"display:none;\">\n",
              "        \n",
              "  <svg xmlns=\"http://www.w3.org/2000/svg\" height=\"24px\"viewBox=\"0 0 24 24\"\n",
              "       width=\"24px\">\n",
              "    <path d=\"M0 0h24v24H0V0z\" fill=\"none\"/>\n",
              "    <path d=\"M18.56 5.44l.94 2.06.94-2.06 2.06-.94-2.06-.94-.94-2.06-.94 2.06-2.06.94zm-11 1L8.5 8.5l.94-2.06 2.06-.94-2.06-.94L8.5 2.5l-.94 2.06-2.06.94zm10 10l.94 2.06.94-2.06 2.06-.94-2.06-.94-.94-2.06-.94 2.06-2.06.94z\"/><path d=\"M17.41 7.96l-1.37-1.37c-.4-.4-.92-.59-1.43-.59-.52 0-1.04.2-1.43.59L10.3 9.45l-7.72 7.72c-.78.78-.78 2.05 0 2.83L4 21.41c.39.39.9.59 1.41.59.51 0 1.02-.2 1.41-.59l7.78-7.78 2.81-2.81c.8-.78.8-2.07 0-2.86zM5.41 20L4 18.59l7.72-7.72 1.47 1.35L5.41 20z\"/>\n",
              "  </svg>\n",
              "      </button>\n",
              "      \n",
              "  <style>\n",
              "    .colab-df-container {\n",
              "      display:flex;\n",
              "      flex-wrap:wrap;\n",
              "      gap: 12px;\n",
              "    }\n",
              "\n",
              "    .colab-df-convert {\n",
              "      background-color: #E8F0FE;\n",
              "      border: none;\n",
              "      border-radius: 50%;\n",
              "      cursor: pointer;\n",
              "      display: none;\n",
              "      fill: #1967D2;\n",
              "      height: 32px;\n",
              "      padding: 0 0 0 0;\n",
              "      width: 32px;\n",
              "    }\n",
              "\n",
              "    .colab-df-convert:hover {\n",
              "      background-color: #E2EBFA;\n",
              "      box-shadow: 0px 1px 2px rgba(60, 64, 67, 0.3), 0px 1px 3px 1px rgba(60, 64, 67, 0.15);\n",
              "      fill: #174EA6;\n",
              "    }\n",
              "\n",
              "    [theme=dark] .colab-df-convert {\n",
              "      background-color: #3B4455;\n",
              "      fill: #D2E3FC;\n",
              "    }\n",
              "\n",
              "    [theme=dark] .colab-df-convert:hover {\n",
              "      background-color: #434B5C;\n",
              "      box-shadow: 0px 1px 3px 1px rgba(0, 0, 0, 0.15);\n",
              "      filter: drop-shadow(0px 1px 2px rgba(0, 0, 0, 0.3));\n",
              "      fill: #FFFFFF;\n",
              "    }\n",
              "  </style>\n",
              "\n",
              "      <script>\n",
              "        const buttonEl =\n",
              "          document.querySelector('#df-88cda2cf-b1d7-4b08-b57d-182e08b5665e button.colab-df-convert');\n",
              "        buttonEl.style.display =\n",
              "          google.colab.kernel.accessAllowed ? 'block' : 'none';\n",
              "\n",
              "        async function convertToInteractive(key) {\n",
              "          const element = document.querySelector('#df-88cda2cf-b1d7-4b08-b57d-182e08b5665e');\n",
              "          const dataTable =\n",
              "            await google.colab.kernel.invokeFunction('convertToInteractive',\n",
              "                                                     [key], {});\n",
              "          if (!dataTable) return;\n",
              "\n",
              "          const docLinkHtml = 'Like what you see? Visit the ' +\n",
              "            '<a target=\"_blank\" href=https://colab.research.google.com/notebooks/data_table.ipynb>data table notebook</a>'\n",
              "            + ' to learn more about interactive tables.';\n",
              "          element.innerHTML = '';\n",
              "          dataTable['output_type'] = 'display_data';\n",
              "          await google.colab.output.renderOutput(dataTable, element);\n",
              "          const docLink = document.createElement('div');\n",
              "          docLink.innerHTML = docLinkHtml;\n",
              "          element.appendChild(docLink);\n",
              "        }\n",
              "      </script>\n",
              "    </div>\n",
              "  </div>\n",
              "  "
            ]
          },
          "metadata": {},
          "execution_count": 14
        }
      ]
    },
    {
      "cell_type": "code",
      "source": [
        "df_submission.to_csv('submission_redes_neuronales.csv', index=False)"
      ],
      "metadata": {
        "id": "SGE1OtAxrs27"
      },
      "execution_count": 15,
      "outputs": []
    }
  ]
}