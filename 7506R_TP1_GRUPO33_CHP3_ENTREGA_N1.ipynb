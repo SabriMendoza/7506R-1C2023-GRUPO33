{
  "cells": [
    {
      "cell_type": "markdown",
      "metadata": {
        "id": "view-in-github",
        "colab_type": "text"
      },
      "source": [
        "<a href=\"https://colab.research.google.com/github/SabriMendoza/7506R-1C2023-GRUPO33/blob/main/7506R_TP1_GRUPO33_CHP3_ENTREGA_N1.ipynb\" target=\"_parent\"><img src=\"https://colab.research.google.com/assets/colab-badge.svg\" alt=\"Open In Colab\"/></a>"
      ]
    },
    {
      "cell_type": "markdown",
      "metadata": {
        "id": "3T0v6rnP_wuO"
      },
      "source": [
        "#Trabajo practico 1: Reserva de Hotel"
      ]
    },
    {
      "cell_type": "markdown",
      "metadata": {
        "id": "XkiMoE8N_z9d"
      },
      "source": [
        "**Trabajo Práctico 1 : Reservas de Hotel**\n",
        "\n",
        "# Grupo 33\n",
        "#Integrantes:\n",
        "1.   Mendoza Hernandez, Sabrina Scarlet (108524)\n",
        "2.   Valeriani, Matias Gabriel (108570)\n",
        "3.   Jang, Lucas (109151)\n"
      ]
    },
    {
      "cell_type": "markdown",
      "metadata": {
        "id": "WL3pPyQfU5Lm"
      },
      "source": [
        "#Importar librerias"
      ]
    },
    {
      "cell_type": "code",
      "execution_count": 1,
      "metadata": {
        "id": "zB9NfprNCGNs"
      },
      "outputs": [],
      "source": [
        "#Datos\n",
        "import numpy as np\n",
        "import pandas as pd\n",
        "\n",
        "#Plots\n",
        "import matplotlib.pyplot as plt\n",
        "import seaborn as sns\n",
        "%matplotlib inline\n",
        "\n",
        "#Guardar y cargar el modelo\n",
        "import pickle\n",
        "from urllib.request import urlretrieve\n",
        "\n",
        "#Modelado\n",
        "from sklearn.model_selection import RandomizedSearchCV, train_test_split, cross_val_score, RepeatedStratifiedKFold\n",
        "import sklearn as sk\n",
        "from sklearn.neighbors import KNeighborsClassifier\n",
        "import xgboost as xgb\n",
        "from sklearn import preprocessing\n",
        "from sklearn.svm import SVC\n",
        "from sklearn import tree\n",
        "from sklearn.ensemble import RandomForestClassifier, VotingClassifier, StackingClassifier\n",
        "from sklearn.metrics import precision_score, recall_score, accuracy_score, confusion_matrix, classification_report , f1_score, precision_score, make_scorer, roc_auc_score\n",
        "from sklearn.linear_model import LogisticRegression, LogisticRegressionCV\n",
        "from sklearn.datasets import make_classification\n",
        "from collections import defaultdict\n",
        "import plotly.graph_objects as go\n",
        "from sklearn.neural_network import MLPClassifier\n",
        "\n",
        "#Warnings\n",
        "import warnings\n",
        "warnings.simplefilter(action='ignore', category=FutureWarning)\n",
        "from sklearn.exceptions import DataConversionWarning\n",
        "warnings.filterwarnings(action='ignore', category=DataConversionWarning)"
      ]
    },
    {
      "cell_type": "markdown",
      "metadata": {
        "id": "YgS72qOwrfIw"
      },
      "source": [
        "* Funcion para mostrar la matriz de confusión con sus respectivas metricas"
      ]
    },
    {
      "cell_type": "code",
      "execution_count": 2,
      "metadata": {
        "id": "G4f3j6VirexR"
      },
      "outputs": [],
      "source": [
        "def metricas(y_pred,y_test):\n",
        "\n",
        "  print(classification_report(y_test,y_pred))\n",
        "  \n",
        "  cm = confusion_matrix(y_test,y_pred)\n",
        "  sns.heatmap(cm, cmap='YlOrRd',annot=True,fmt='g')\n",
        "  plt.xlabel('Predicted')\n",
        "  plt.ylabel('True')"
      ]
    },
    {
      "cell_type": "markdown",
      "source": [
        "#Matriz de confusión y metricas a considerar"
      ],
      "metadata": {
        "id": "jyndU2SWYYcZ"
      }
    },
    {
      "cell_type": "markdown",
      "source": [
        "![matriz confusion.png](data:image/png;base64,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)"
      ],
      "metadata": {
        "id": "Oi9ixfy4afJd"
      }
    },
    {
      "cell_type": "markdown",
      "source": [
        "TP: True Positive (verdaderos positivos)\n",
        "\n",
        "FP: False Positive (falsos positivos)\n",
        "\n",
        "FN: False Negative (falsos negativos)\n",
        "\n",
        "TN: True Negative (verdaderos negativos)\n",
        "\n"
      ],
      "metadata": {
        "id": "29kpW6Zya_Yd"
      }
    },
    {
      "cell_type": "markdown",
      "source": [
        "Las métricas que consideraremos, se calculan a partir de los datos brindados en la matriz de confusion. Con esta matriz se puede obtener precision, recall, f1 score y accuracy. \n",
        "\n",
        "* La precisión (**precision**) mide la proporción de verdaderos positivos (TP) entre los casos positivos pronosticados (TP + FP). Mide la capacidad del modelo para predecir correctamente los casos positivos.\n",
        "\n",
        "  $Precision = \\frac{TP}{TP + FP}$\n",
        "\n",
        "* El recall (**recall**) mide la proporción de verdaderos positivos (TP) entre todos los casos positivos reales (TP + FN). Mide la capacidad del modelo para encontrar todos los casos positivos.\n",
        "\n",
        "  $Recall = \\frac{TP}{TP + FN}$\n",
        "\n",
        "* El F1 score (**f1 score**) es la media armónica entre la precisión y el recall. Resume el rendimiento del modelo en términos de clasificación.\n",
        "\n",
        "  $F1 Score = 2\\frac{Precision.Recall}{Precision + Recall}$\n",
        "\n",
        "* La exactitud (**accuracy**) mide la proporción de casos totales que se clasifican correctamente (TP + TN) sobre el total de casos (TP + TN + FP + FN). Mide la capacidad del modelo para clasificar correctamente todos los casos, tanto positivos como negativos.\n",
        "\n",
        "  $Accuracy = \\frac{TP + TN}{TP + TN + FP + FN}$"
      ],
      "metadata": {
        "id": "l_81w2Y6YdUL"
      }
    },
    {
      "cell_type": "markdown",
      "metadata": {
        "id": "k2lCTnvd_3eP"
      },
      "source": [
        "# Preparacion de los dataframes"
      ]
    },
    {
      "cell_type": "markdown",
      "metadata": {
        "id": "us_zQukOmbJJ"
      },
      "source": [
        "## Dataframe train"
      ]
    },
    {
      "cell_type": "code",
      "execution_count": 3,
      "metadata": {
        "colab": {
          "base_uri": "https://localhost:8080/"
        },
        "id": "3kI0-j5E_56w",
        "outputId": "ca7009df-f270-493f-ff1c-c15d3ea0cae1"
      },
      "outputs": [
        {
          "output_type": "stream",
          "name": "stdout",
          "text": [
            "<class 'pandas.core.frame.DataFrame'>\n",
            "RangeIndex: 60679 entries, 0 to 60678\n",
            "Data columns (total 42 columns):\n",
            " #   Column                          Non-Null Count  Dtype  \n",
            "---  ------                          --------------  -----  \n",
            " 0   lead_time                       60679 non-null  int64  \n",
            " 1   arrival_date_year               60679 non-null  int64  \n",
            " 2   arrival_date_week_number        60679 non-null  int64  \n",
            " 3   adults                          60679 non-null  int64  \n",
            " 4   children                        60679 non-null  int64  \n",
            " 5   is_repeated_guest               60679 non-null  int64  \n",
            " 6   previous_cancellations          60679 non-null  int64  \n",
            " 7   previous_bookings_not_canceled  60679 non-null  int64  \n",
            " 8   booking_changes                 60679 non-null  int64  \n",
            " 9   agent                           60679 non-null  float64\n",
            " 10  days_in_waiting_list            60679 non-null  int64  \n",
            " 11  adr                             60679 non-null  float64\n",
            " 12  required_car_parking_spaces     60679 non-null  int64  \n",
            " 13  total_of_special_requests       60679 non-null  int64  \n",
            " 14  is_canceled                     60679 non-null  int64  \n",
            " 15  total_nights                    60679 non-null  int64  \n",
            " 16  hotel_City Hotel                60679 non-null  int64  \n",
            " 17  hotel_Resort Hotel              60679 non-null  int64  \n",
            " 18  country_DEU                     60679 non-null  int64  \n",
            " 19  country_ESP                     60679 non-null  int64  \n",
            " 20  country_FRA                     60679 non-null  int64  \n",
            " 21  country_GBR                     60679 non-null  int64  \n",
            " 22  country_Other country           60679 non-null  int64  \n",
            " 23  country_PRT                     60679 non-null  int64  \n",
            " 24  market_segment_Aviation         60679 non-null  int64  \n",
            " 25  market_segment_Complementary    60679 non-null  int64  \n",
            " 26  market_segment_Corporate        60679 non-null  int64  \n",
            " 27  market_segment_Direct           60679 non-null  int64  \n",
            " 28  market_segment_Groups           60679 non-null  int64  \n",
            " 29  market_segment_Offline TA/TO    60679 non-null  int64  \n",
            " 30  market_segment_Online TA        60679 non-null  int64  \n",
            " 31  distribution_channel_Corporate  60679 non-null  int64  \n",
            " 32  distribution_channel_Direct     60679 non-null  int64  \n",
            " 33  distribution_channel_GDS        60679 non-null  int64  \n",
            " 34  distribution_channel_TA/TO      60679 non-null  int64  \n",
            " 35  deposit_type_No Deposit         60679 non-null  int64  \n",
            " 36  deposit_type_Non Refund         60679 non-null  int64  \n",
            " 37  deposit_type_Refundable         60679 non-null  int64  \n",
            " 38  customer_type_Contract          60679 non-null  int64  \n",
            " 39  customer_type_Group             60679 non-null  int64  \n",
            " 40  customer_type_Transient         60679 non-null  int64  \n",
            " 41  customer_type_Transient-Party   60679 non-null  int64  \n",
            "dtypes: float64(2), int64(40)\n",
            "memory usage: 19.4 MB\n"
          ]
        }
      ],
      "source": [
        "reservas = pd.read_csv(\"https://drive.google.com/uc?export=download&id=1fvs0y1EqWpmx_ZuhlSEzFjwCI0HZGCxv\")\n",
        "hotels = reservas.copy()\n",
        "hotels.info()"
      ]
    },
    {
      "cell_type": "markdown",
      "metadata": {
        "id": "hszTJlMQEjHG"
      },
      "source": [
        "* Dividimos las variables por un lado, y el target *is_canceled* por el otro, haciendo dataframes para cada caso. Posteriormente separamos en *x_train, x_test, y_train, y_test*"
      ]
    },
    {
      "cell_type": "code",
      "execution_count": 4,
      "metadata": {
        "id": "VqfrvhiOECxa"
      },
      "outputs": [],
      "source": [
        "hotels_train = hotels.copy()\n",
        "#hotels_train.drop('id', axis='columns', inplace=True)\n",
        "\n",
        "target = 'is_canceled'\n",
        "features = hotels.columns.tolist()\n",
        "features.remove(target)\n",
        "\n",
        "#Features\n",
        "features_para_clasificar = hotels_train.columns.tolist()\n",
        "features_para_clasificar.remove(target)\n",
        "df_train_completo_x = hotels_train[features_para_clasificar]\n",
        "\n",
        "#Target\n",
        "df_train_completo_y = hotels_train[target].copy()\n",
        "\n",
        "x_train, x_test, y_train, y_test = train_test_split(df_train_completo_x, \n",
        "                                                    df_train_completo_y, \n",
        "                                                    test_size=0.20, #20% al conjunto de test\n",
        "                                                    random_state=0)"
      ]
    },
    {
      "cell_type": "markdown",
      "metadata": {
        "id": "3W_A1h3QSkm1"
      },
      "source": [
        "## Dataframe test"
      ]
    },
    {
      "cell_type": "markdown",
      "metadata": {
        "id": "gbzv8rgOTYPj"
      },
      "source": [
        "* Cargamos el dataset de test para guardarnos el id, luego cargaremos el que ya esta procesado con los features requeridos"
      ]
    },
    {
      "cell_type": "markdown",
      "metadata": {
        "id": "kNdXJdOWhjLJ"
      },
      "source": [
        "El siguiente nos servirá unicamente para guardarnos el *id*"
      ]
    },
    {
      "cell_type": "code",
      "execution_count": 5,
      "metadata": {
        "id": "qhKG3G2FTfbk"
      },
      "outputs": [],
      "source": [
        "reservas_test = pd.read_csv(\"https://drive.google.com/uc?export=download&id=1-5FFQZp2NmEqpBDGCD17e0QM0_AF7Ht2\")\n",
        "hotels_test = reservas_test.copy()"
      ]
    },
    {
      "cell_type": "markdown",
      "metadata": {
        "id": "2bDMArxphpD-"
      },
      "source": [
        "*hotels_test_* nos servirá para testear nuestro modelo y generar las predicciones que subiremos a Kaggle."
      ]
    },
    {
      "cell_type": "code",
      "execution_count": 6,
      "metadata": {
        "colab": {
          "base_uri": "https://localhost:8080/"
        },
        "id": "ThQWiUg5Soc0",
        "outputId": "2705b01f-f73f-4b58-cd70-f0b71c40f945"
      },
      "outputs": [
        {
          "output_type": "stream",
          "name": "stdout",
          "text": [
            "<class 'pandas.core.frame.DataFrame'>\n",
            "RangeIndex: 26535 entries, 0 to 26534\n",
            "Data columns (total 41 columns):\n",
            " #   Column                          Non-Null Count  Dtype  \n",
            "---  ------                          --------------  -----  \n",
            " 0   lead_time                       26535 non-null  int64  \n",
            " 1   arrival_date_year               26535 non-null  int64  \n",
            " 2   arrival_date_week_number        26535 non-null  int64  \n",
            " 3   adults                          26535 non-null  int64  \n",
            " 4   children                        26535 non-null  int64  \n",
            " 5   is_repeated_guest               26535 non-null  int64  \n",
            " 6   previous_cancellations          26535 non-null  int64  \n",
            " 7   previous_bookings_not_canceled  26535 non-null  int64  \n",
            " 8   booking_changes                 26535 non-null  int64  \n",
            " 9   agent                           26535 non-null  float64\n",
            " 10  days_in_waiting_list            26535 non-null  int64  \n",
            " 11  adr                             26535 non-null  float64\n",
            " 12  required_car_parking_spaces     26535 non-null  int64  \n",
            " 13  total_of_special_requests       26535 non-null  int64  \n",
            " 14  total_nights                    26535 non-null  int64  \n",
            " 15  hotel_City Hotel                26535 non-null  int64  \n",
            " 16  hotel_Resort Hotel              26535 non-null  int64  \n",
            " 17  country_DEU                     26535 non-null  int64  \n",
            " 18  country_ESP                     26535 non-null  int64  \n",
            " 19  country_FRA                     26535 non-null  int64  \n",
            " 20  country_GBR                     26535 non-null  int64  \n",
            " 21  country_Other country           26535 non-null  int64  \n",
            " 22  country_PRT                     26535 non-null  int64  \n",
            " 23  market_segment_Aviation         26535 non-null  int64  \n",
            " 24  market_segment_Complementary    26535 non-null  int64  \n",
            " 25  market_segment_Corporate        26535 non-null  int64  \n",
            " 26  market_segment_Direct           26535 non-null  int64  \n",
            " 27  market_segment_Groups           26535 non-null  int64  \n",
            " 28  market_segment_Offline TA/TO    26535 non-null  int64  \n",
            " 29  market_segment_Online TA        26535 non-null  int64  \n",
            " 30  distribution_channel_Corporate  26535 non-null  int64  \n",
            " 31  distribution_channel_Direct     26535 non-null  int64  \n",
            " 32  distribution_channel_GDS        26535 non-null  int64  \n",
            " 33  distribution_channel_TA/TO      26535 non-null  int64  \n",
            " 34  deposit_type_No Deposit         26535 non-null  int64  \n",
            " 35  deposit_type_Non Refund         26535 non-null  int64  \n",
            " 36  deposit_type_Refundable         26535 non-null  int64  \n",
            " 37  customer_type_Contract          26535 non-null  int64  \n",
            " 38  customer_type_Group             26535 non-null  int64  \n",
            " 39  customer_type_Transient         26535 non-null  int64  \n",
            " 40  customer_type_Transient-Party   26535 non-null  int64  \n",
            "dtypes: float64(2), int64(39)\n",
            "memory usage: 8.3 MB\n"
          ]
        }
      ],
      "source": [
        "test = pd.read_csv(\"https://drive.google.com/uc?export=download&id=1OVHmmfGCqK_U1i404zGn5vVQPqh7aHuN\")\n",
        "hotels_test_ = test.copy()\n",
        "hotels_test_.info()"
      ]
    },
    {
      "cell_type": "markdown",
      "metadata": {
        "id": "Sd7lbyFEdxXf"
      },
      "source": [
        "#Clasificador KNN"
      ]
    },
    {
      "cell_type": "markdown",
      "metadata": {
        "id": "Z4K4cxQEVsYf"
      },
      "source": [
        "* El algoritmo K-Nearest Neighbors (KNN) es un método de clasificación y regresión supervisada que se utiliza para predecir la etiqueta de un punto de datos basado en las etiquetas de los puntos de datos cercanos. La \"K\" en KNN representa el número de puntos de datos más cercanos que se utilizan para tomar la decisión de clasificación. KNN es un algoritmo basado en instancia, lo que significa que no hay una fase de entrenamiento explícita, sino que simplemente se almacenan los datos de entrenamiento para utilizarlos durante la fase de predicción."
      ]
    },
    {
      "cell_type": "markdown",
      "metadata": {
        "id": "pI3gUH9NVx9O"
      },
      "source": [
        "Buscaremos los mejores hiperparámetros por medio de Randomized Search Cross Validation, posteriormente haremos un clasificador con dichos hiperparámetros mostrando sus respectivas métricas."
      ]
    },
    {
      "cell_type": "code",
      "execution_count": 7,
      "metadata": {
        "colab": {
          "base_uri": "https://localhost:8080/"
        },
        "id": "NWm9nttBCBlm",
        "outputId": "7dad92fe-fcb9-4e0d-e5f5-b406f184aa04"
      },
      "outputs": [
        {
          "output_type": "execute_result",
          "data": {
            "text/plain": [
              "array([0.70944254, 0.73197142, 0.7192759 , 0.7675754 , 0.7114679 ,\n",
              "       0.76806853, 0.75941515, 0.76683391, 0.79030682, 0.72137629])"
            ]
          },
          "metadata": {},
          "execution_count": 7
        }
      ],
      "source": [
        "#Grilla de Parámetros\n",
        "params_grid={ 'n_neighbors':range(4,15), \n",
        "              'weights':['distance','uniform'],\n",
        "              'algorithm':['ball_tree', 'kd_tree', 'brute'],\n",
        "              'metric':['euclidean','manhattan','chebyshev']\n",
        "             }\n",
        "\n",
        "#Clasificador KNN\n",
        "knn=KNeighborsClassifier()\n",
        "\n",
        "scorer_fn = make_scorer(sk.metrics.f1_score)\n",
        "\n",
        "#Random Search con 8 Folds y 10 iteraciones\n",
        "rand = RandomizedSearchCV(knn, params_grid, cv=8, scoring=scorer_fn, n_iter=10, random_state=5)\n",
        "\n",
        "rand.fit(x_train, y_train)\n",
        "rand.cv_results_['mean_test_score']"
      ]
    },
    {
      "cell_type": "code",
      "execution_count": 8,
      "metadata": {
        "colab": {
          "base_uri": "https://localhost:8080/"
        },
        "id": "KGouhC1TEVkt",
        "outputId": "a6d4a442-0cf1-482b-991a-becb47925546"
      },
      "outputs": [
        {
          "output_type": "stream",
          "name": "stdout",
          "text": [
            "Mejores hiperparametros: \n",
            "{'weights': 'distance', 'n_neighbors': 7, 'metric': 'manhattan', 'algorithm': 'ball_tree'}\n",
            "\n",
            "Mejor metrica: \n",
            "0.7903068169985223\n"
          ]
        }
      ],
      "source": [
        "print(\"Mejores hiperparametros: \")\n",
        "print(rand.best_params_)\n",
        "\n",
        "print(\"\\nMejor metrica: \")\n",
        "print(rand.best_score_)"
      ]
    },
    {
      "cell_type": "code",
      "execution_count": 9,
      "metadata": {
        "colab": {
          "base_uri": "https://localhost:8080/",
          "height": 692
        },
        "id": "41N4WoQJFkJ6",
        "outputId": "17eb495f-cb6c-4b9f-db2d-3bb8f80cf294"
      },
      "outputs": [
        {
          "output_type": "stream",
          "name": "stdout",
          "text": [
            "              precision    recall  f1-score   support\n",
            "\n",
            "           0       0.80      0.76      0.78      5966\n",
            "           1       0.78      0.82      0.80      6170\n",
            "\n",
            "    accuracy                           0.79     12136\n",
            "   macro avg       0.79      0.79      0.79     12136\n",
            "weighted avg       0.79      0.79      0.79     12136\n",
            "\n",
            "Accuracy: 0.7888101516150297\n",
            "Precision: 0.7794824112815745\n",
            "Recall: 0.8152350081037277\n",
            "f1 score: 0.7969579339301276\n"
          ]
        },
        {
          "output_type": "display_data",
          "data": {
            "text/plain": [
              "<Figure size 640x480 with 2 Axes>"
            ],
            "image/png": "[encoded data removed]"
          },
          "metadata": {}
        }
      ],
      "source": [
        "#Mejor estimador\n",
        "best_knn=rand.best_estimator_\n",
        "\n",
        "#Predicción con mejor estimador\n",
        "y_pred=best_knn.predict(x_test)\n",
        "\n",
        "metricas(y_pred,y_test)\n",
        "accuracy=accuracy_score(y_test,y_pred)\n",
        "precision=precision_score(y_test,y_pred)\n",
        "recall=recall_score(y_test,y_pred)\n",
        "f1=f1_score(y_test,y_pred)\n",
        "\n",
        "print(\"Accuracy: \"+str(accuracy))\n",
        "print(\"Precision: \"+str(precision))\n",
        "print(\"Recall: \"+str(recall))\n",
        "print(\"f1 score: \"+str(f1))\n"
      ]
    },
    {
      "cell_type": "markdown",
      "metadata": {
        "id": "PdMam90n-7fc"
      },
      "source": [
        "##Guardamos el modelo"
      ]
    },
    {
      "cell_type": "markdown",
      "metadata": {
        "id": "K9J3GqZq_sKb"
      },
      "source": [
        "Ahora guardamos el mejor modelo en base a nuestra conveniencia. Luego de varios intentos de modelos, conseguimos el mejor clasificador KNN que será evaluado posteriormente."
      ]
    },
    {
      "cell_type": "code",
      "execution_count": 10,
      "metadata": {
        "id": "0BmW33UhEJoX"
      },
      "outputs": [],
      "source": [
        "#filename = \"f1score_0-7904_n_neighbors-7_metric-manhattan_algorithm-kd_tree.pickle\"\n",
        "\n",
        "#pickle.dump(best_knn, open(filename, \"wb\"))\n",
        "\n",
        "#loaded_model = pickle.load(open(filename, \"rb\"))"
      ]
    },
    {
      "cell_type": "markdown",
      "metadata": {
        "id": "qEm6yTg4RBj_"
      },
      "source": [
        "##Mejor clasificador KNN"
      ]
    },
    {
      "cell_type": "markdown",
      "metadata": {
        "id": "53kjTtikW3l3"
      },
      "source": [
        "* Cargamos el clasificador desde githubm previamente encontrado con Randomized Search Cross Validation"
      ]
    },
    {
      "cell_type": "code",
      "execution_count": 11,
      "metadata": {
        "colab": {
          "base_uri": "https://localhost:8080/",
          "height": 766
        },
        "id": "VaqbjjZ7OMrg",
        "outputId": "ceeb0872-bb90-484f-83e5-96f7277964aa"
      },
      "outputs": [
        {
          "output_type": "stream",
          "name": "stdout",
          "text": [
            "n_neighbors: 7\n",
            "metric: manhattan\n",
            "algorithm: kd_tree\n",
            "weights: distance\n",
            "              precision    recall  f1-score   support\n",
            "\n",
            "           0       0.80      0.76      0.78      5966\n",
            "           1       0.78      0.81      0.80      6170\n",
            "\n",
            "    accuracy                           0.79     12136\n",
            "   macro avg       0.79      0.79      0.79     12136\n",
            "weighted avg       0.79      0.79      0.79     12136\n",
            "\n",
            "Accuracy: 0.7885629531970996\n",
            "Precision: 0.7793798449612404\n",
            "Recall: 0.8147487844408428\n",
            "f1 score: 0.7966719492868464\n"
          ]
        },
        {
          "output_type": "display_data",
          "data": {
            "text/plain": [
              "<Figure size 640x480 with 2 Axes>"
            ],
            "image/png": "[encoded data removed]"
          },
          "metadata": {}
        }
      ],
      "source": [
        "url = 'https://github.com/SabriMendoza/7506R-1C2023-GRUPO33/raw/main/f1score_0-7904_n_neighbors-7_metric-manhattan_algorithm-kd_tree.pickle'\n",
        "\n",
        "urlretrieve(url, 'f1score_0-7904_n_neighbors-7_metric-manhattan_algorithm-kd_tree.pickle')\n",
        "\n",
        "filename = \"f1score_0-7904_n_neighbors-7_metric-manhattan_algorithm-kd_tree.pickle\"\n",
        "\n",
        "# load model\n",
        "model = pickle.load(open(filename, \"rb\"))\n",
        "\n",
        "model_params = model.get_params()\n",
        "print(f\"n_neighbors: {model_params['n_neighbors']}\")\n",
        "print(f\"metric: {model_params['metric']}\")\n",
        "print(f\"algorithm: {model_params['algorithm']}\")\n",
        "print(f\"weights: {model_params['weights']}\")\n",
        "\n",
        "#Predicción con mejor estimador\n",
        "y_pred=model.predict(x_test)\n",
        "\n",
        "metricas(y_pred,y_test)\n",
        "\n",
        "accuracy=accuracy_score(y_test,y_pred)\n",
        "precision=precision_score(y_test,y_pred)\n",
        "recall=recall_score(y_test,y_pred)\n",
        "f1=f1_score(y_test,y_pred)\n",
        "\n",
        "print(\"Accuracy: \"+str(accuracy))\n",
        "print(\"Precision: \"+str(precision))\n",
        "print(\"Recall: \"+str(recall))\n",
        "print(\"f1 score: \"+str(f1))"
      ]
    },
    {
      "cell_type": "markdown",
      "metadata": {
        "id": "8oexX1ABS_OD"
      },
      "source": [
        "* Predicciones en el dataframe test."
      ]
    },
    {
      "cell_type": "code",
      "execution_count": 12,
      "metadata": {
        "id": "cbNfc406TA7D"
      },
      "outputs": [],
      "source": [
        "y_pred = model.predict(hotels_test_)\n",
        "\n",
        "df_submission = pd.DataFrame({'id': hotels_test['id'], 'is_canceled': y_pred})\n",
        "df_submission.to_csv('submission_best_knn.csv',index=False)"
      ]
    },
    {
      "cell_type": "markdown",
      "metadata": {
        "id": "V8jP9LGieIoO"
      },
      "source": [
        "#Clasificador SVM"
      ]
    },
    {
      "cell_type": "markdown",
      "metadata": {
        "id": "uVwHyskHWY0R"
      },
      "source": [
        "\n",
        "Las máquinas de vectores de soporte (SVM) son un método de aprendizaje supervisado utilizado para clasificar datos en dos o más categorías. El objetivo de SVM es encontrar el hiperplano que mejor separa los datos de diferentes categorías. SVM se basa en la idea de encontrar el margen máximo que separa las clases en el espacio de características. El margen se define como la distancia entre el hiperplano de separación y el punto más cercano de cada clase. SVM también puede utilizar un kernel para mapear los datos a un espacio de características de mayor dimensión para separar las clases de manera más efectiva."
      ]
    },
    {
      "cell_type": "markdown",
      "metadata": {
        "id": "qKj0LGrEX7v4"
      },
      "source": [
        "##Normalización de Datos"
      ]
    },
    {
      "cell_type": "markdown",
      "metadata": {
        "id": "RNf81s10WgpV"
      },
      "source": [
        "Normalizamos los datos para garantizar que todas las características o variables de entrada tengan la misma escala."
      ]
    },
    {
      "cell_type": "code",
      "execution_count": 13,
      "metadata": {
        "id": "yV69HddsYCaC"
      },
      "outputs": [],
      "source": [
        "min_max_scaler = preprocessing.MinMaxScaler()\n",
        "x_train_minmax = min_max_scaler.fit_transform(x_train) \n",
        "x_test_minmax  = min_max_scaler.transform(x_test) "
      ]
    },
    {
      "cell_type": "code",
      "execution_count": 14,
      "metadata": {
        "colab": {
          "base_uri": "https://localhost:8080/",
          "height": 690
        },
        "id": "iiAFMabDt_MG",
        "outputId": "c7d218fd-4594-494b-979d-ab48846a00b9"
      },
      "outputs": [
        {
          "output_type": "stream",
          "name": "stdout",
          "text": [
            "              precision    recall  f1-score   support\n",
            "\n",
            "           0       0.81      0.80      0.81      5966\n",
            "           1       0.81      0.82      0.81      6170\n",
            "\n",
            "    accuracy                           0.81     12136\n",
            "   macro avg       0.81      0.81      0.81     12136\n",
            "weighted avg       0.81      0.81      0.81     12136\n",
            "\n",
            "Accuracy: 0.8099044166117337\n",
            "Precision: 0.8092874299439552\n",
            "Recall: 0.8191247974068071\n",
            "f1 score: 0.8141763995167137\n"
          ]
        },
        {
          "output_type": "display_data",
          "data": {
            "text/plain": [
              "<Figure size 640x480 with 2 Axes>"
            ],
            "image/png": "[encoded data removed]"
          },
          "metadata": {}
        }
      ],
      "source": [
        "#Construyo un modelo SVM  \n",
        "svm_minmax= SVC(cache_size=2000)\n",
        "\n",
        "#Lo entreno con los datos escalados con min max\n",
        "svm_minmax.fit(x_train_minmax, y_train)\n",
        "\n",
        "#Hago la prediccion y calculo las métricas\n",
        "y_pred_minmax=svm_minmax.predict(x_test_minmax)\n",
        "metricas(y_pred_minmax,y_test)\n",
        "\n",
        "accuracy=accuracy_score(y_test,y_pred_minmax)\n",
        "precision=precision_score(y_test,y_pred_minmax)\n",
        "recall=recall_score(y_test,y_pred_minmax)\n",
        "f1=f1_score(y_test,y_pred_minmax)\n",
        "\n",
        "print(\"Accuracy: \"+str(accuracy))\n",
        "print(\"Precision: \"+str(precision))\n",
        "print(\"Recall: \"+str(recall))\n",
        "print(\"f1 score: \"+str(f1))"
      ]
    },
    {
      "cell_type": "markdown",
      "metadata": {
        "id": "mQ4kQD3LYj8v"
      },
      "source": [
        "## SVM - Kernels"
      ]
    },
    {
      "cell_type": "markdown",
      "metadata": {
        "id": "5Dbw_eZNW873"
      },
      "source": [
        "La idea detrás del parámetro Kernel es encontrar un hiperplano que pueda separar las clases de manera más efectiva en el espacio de características de mayor dimensión."
      ]
    },
    {
      "cell_type": "markdown",
      "metadata": {
        "id": "f1xq7ANDYqsx"
      },
      "source": [
        "* SVM con kernel polinómico"
      ]
    },
    {
      "cell_type": "code",
      "execution_count": 15,
      "metadata": {
        "colab": {
          "base_uri": "https://localhost:8080/",
          "height": 689
        },
        "id": "0A_xfQ2fYrBj",
        "outputId": "3b46d39a-f5ec-49fe-efa2-1fbc8599b224"
      },
      "outputs": [
        {
          "output_type": "stream",
          "name": "stdout",
          "text": [
            "              precision    recall  f1-score   support\n",
            "\n",
            "           0       0.83      0.84      0.84      5966\n",
            "           1       0.85      0.83      0.84      6170\n",
            "\n",
            "    accuracy                           0.84     12136\n",
            "   macro avg       0.84      0.84      0.84     12136\n",
            "weighted avg       0.84      0.84      0.84     12136\n",
            "\n",
            "Accuracy: 0.8366842452208306\n",
            "Precision: 0.8457727873183619\n",
            "Recall: 0.8301458670988655\n",
            "f1 score: 0.8378864714542777\n"
          ]
        },
        {
          "output_type": "display_data",
          "data": {
            "text/plain": [
              "<Figure size 640x480 with 2 Axes>"
            ],
            "image/png": "[encoded data removed]"
          },
          "metadata": {}
        }
      ],
      "source": [
        "#Creo un clasificador con kernel polinomico y lo entreno sobre los datos escalados min-max\n",
        "clf = SVC(kernel='poly', C=5, gamma=1,cache_size=2000)\n",
        "clf.fit(x_train_minmax, y_train)\n",
        "\n",
        "#Hago la predicción y calculo las métricas\n",
        "y_pred_pol=clf.predict(x_test_minmax)\n",
        "metricas(y_pred_pol,y_test)\n",
        "\n",
        "accuracy=accuracy_score(y_test,y_pred_pol)\n",
        "precision=precision_score(y_test,y_pred_pol)\n",
        "recall=recall_score(y_test,y_pred_pol)\n",
        "f1=f1_score(y_test,y_pred_pol)\n",
        "\n",
        "print(\"Accuracy: \"+str(accuracy))\n",
        "print(\"Precision: \"+str(precision))\n",
        "print(\"Recall: \"+str(recall))\n",
        "print(\"f1 score: \"+str(f1))"
      ]
    },
    {
      "cell_type": "markdown",
      "metadata": {
        "id": "HHGOrNpuXRwu"
      },
      "source": [
        "Observamos que mediante el kernel polinómico se obtienen mejores métricas que las vistas en SVM sin kernel."
      ]
    },
    {
      "cell_type": "markdown",
      "metadata": {
        "id": "m865Q3n7XviV"
      },
      "source": [
        "* Predicciones en el dataframe test."
      ]
    },
    {
      "cell_type": "code",
      "execution_count": 16,
      "metadata": {
        "colab": {
          "base_uri": "https://localhost:8080/"
        },
        "id": "1MH5BklVXjPN",
        "outputId": "0db7e352-4fa2-4b87-c87e-4fe9a5029b64"
      },
      "outputs": [
        {
          "output_type": "stream",
          "name": "stderr",
          "text": [
            "/usr/local/lib/python3.10/dist-packages/sklearn/base.py:432: UserWarning: X has feature names, but SVC was fitted without feature names\n",
            "  warnings.warn(\n"
          ]
        }
      ],
      "source": [
        "y_pred = clf.predict(hotels_test_)\n",
        "\n",
        "df_submission = pd.DataFrame({'id': hotels_test['id'], 'is_canceled': y_pred})\n",
        "df_submission.to_csv('submission_svm_kernel_polinomico.csv',index=False)"
      ]
    },
    {
      "cell_type": "markdown",
      "metadata": {
        "id": "phptQQ75Zlcb"
      },
      "source": [
        "#Clasificador Random Forest"
      ]
    },
    {
      "cell_type": "markdown",
      "metadata": {
        "id": "6MHNq8shX94c"
      },
      "source": [
        "Este algoritmo combina múltiples árboles de decisión para mejorar la precisión y reducir el sobreajuste del modelo. Cada árbol de decisión en Random Forest se entrena en una muestra aleatoria de los datos de entrenamiento y selecciona un subconjunto aleatorio de características para hacer la división en cada nodo del árbol. Luego, las predicciones de cada árbol se combinan para obtener una predicción final para una nueva instancia."
      ]
    },
    {
      "cell_type": "markdown",
      "metadata": {
        "id": "vixuOsKTyVwA"
      },
      "source": [
        "* Utilizamos Randomized Search Cross Validation para obtener los mejores hiperparametros. Posteriormente mostramos el mejor clasificador obtenido luego de experimentar diferentes combinaciones de parametros."
      ]
    },
    {
      "cell_type": "code",
      "execution_count": 17,
      "metadata": {
        "colab": {
          "base_uri": "https://localhost:8080/"
        },
        "id": "pruYiwVXyVJY",
        "outputId": "280adbf7-ed5a-4ee0-8a65-abfef6d259d8"
      },
      "outputs": [
        {
          "output_type": "stream",
          "name": "stdout",
          "text": [
            "Mejores hiperparámetros encontrados: {'n_estimators': 94, 'min_samples_split': 9, 'min_samples_leaf': 1, 'criterion': 'entropy'}\n",
            "f1 score: 0.8772756827048114\n"
          ]
        }
      ],
      "source": [
        "model = RandomForestClassifier()\n",
        "param_grid = {\n",
        "    'n_estimators': np.arange(30, 100, 4),\n",
        "    'min_samples_split': np.arange(2, 11),\n",
        "    'min_samples_leaf': np.arange(1, 11),\n",
        "    'criterion': ['gini', 'entropy']\n",
        "}\n",
        "\n",
        "scorer = make_scorer(f1_score)\n",
        "# Realizar la búsqueda aleatoria\n",
        "random_search = RandomizedSearchCV(model, param_distributions=param_grid,scoring=scorer, n_iter=30, cv=5, n_jobs=-1)\n",
        "random_search.fit(x_train, y_train)\n",
        "\n",
        "# Imprimir los mejores hiperparámetros encontrados\n",
        "print(\"Mejores hiperparámetros encontrados:\", random_search.best_params_)\n",
        "\n",
        "y_pred = random_search.predict(x_test)\n",
        "f1=f1_score(y_test,y_pred)\n",
        "print(\"f1 score: \"+str(f1))"
      ]
    },
    {
      "cell_type": "markdown",
      "metadata": {
        "id": "nKxEmORXyoPF"
      },
      "source": [
        "##Mejor clasificador Random Forest"
      ]
    },
    {
      "cell_type": "markdown",
      "metadata": {
        "id": "hMe3_jJp0k9c"
      },
      "source": [
        "Creamos un clasificador Random Forest con los mejores hiperparámetros hallados con Cross Validation. Posteriormente mostramos la matriz de confusión con sus respectivas métricas."
      ]
    },
    {
      "cell_type": "code",
      "execution_count": 18,
      "metadata": {
        "id": "npCqSxb2c8CZ"
      },
      "outputs": [],
      "source": [
        "rfc = RandomForestClassifier(max_features='auto', \n",
        "                             oob_score=True, \n",
        "                             random_state=2, \n",
        "                             n_jobs=-1,\n",
        "                             criterion=\"entropy\", \n",
        "                             min_samples_leaf=1,\n",
        "                             min_samples_split=3,\n",
        "                             n_estimators=80)\n",
        "#Entrenamos el modelo\n",
        "model = rfc.fit(X = x_train, y = y_train)"
      ]
    },
    {
      "cell_type": "code",
      "execution_count": 19,
      "metadata": {
        "colab": {
          "base_uri": "https://localhost:8080/",
          "height": 689
        },
        "id": "xcEx8s1YdDex",
        "outputId": "bf749161-55a7-45cd-d343-1d604b02b759"
      },
      "outputs": [
        {
          "output_type": "stream",
          "name": "stdout",
          "text": [
            "              precision    recall  f1-score   support\n",
            "\n",
            "           0       0.87      0.88      0.88      5966\n",
            "           1       0.88      0.88      0.88      6170\n",
            "\n",
            "    accuracy                           0.88     12136\n",
            "   macro avg       0.88      0.88      0.88     12136\n",
            "weighted avg       0.88      0.88      0.88     12136\n",
            "\n",
            "Accuracy: 0.877636783124588\n",
            "Precision: 0.8813283412013674\n",
            "Recall: 0.8774716369529983\n",
            "f1 score: 0.8793957605782505\n"
          ]
        },
        {
          "output_type": "display_data",
          "data": {
            "text/plain": [
              "<Figure size 640x480 with 2 Axes>"
            ],
            "image/png": "[encoded data removed]"
          },
          "metadata": {}
        }
      ],
      "source": [
        "#Realizamos una predicción sobre el set de test\n",
        "y_pred = model.predict(x_test)\n",
        "metricas(y_pred,y_test)\n",
        "\n",
        "accuracy=accuracy_score(y_test,y_pred)\n",
        "precision=precision_score(y_test,y_pred)\n",
        "recall=recall_score(y_test,y_pred)\n",
        "f1=f1_score(y_test,y_pred)\n",
        "\n",
        "print(\"Accuracy: \"+str(accuracy))\n",
        "print(\"Precision: \"+str(precision))\n",
        "print(\"Recall: \"+str(recall))\n",
        "print(\"f1 score: \"+str(f1))"
      ]
    },
    {
      "cell_type": "markdown",
      "metadata": {
        "id": "jp0zvpyG1S-E"
      },
      "source": [
        "* Gráficamos uno de los arboles de decisión. Para este caso elegimos arbitrariamente el estimador 48, y mostramos el arbol con los primeros nodos."
      ]
    },
    {
      "cell_type": "code",
      "execution_count": 20,
      "metadata": {
        "colab": {
          "base_uri": "https://localhost:8080/",
          "height": 92
        },
        "id": "QmZARKdSjKij",
        "outputId": "f28cdb5e-0241-4c4d-a94a-cc2615492c6a"
      },
      "outputs": [
        {
          "output_type": "execute_result",
          "data": {
            "text/plain": [
              "DecisionTreeClassifier(criterion='entropy', max_features='sqrt',\n",
              "                       min_samples_split=3, random_state=546147920)"
            ],
            "text/html": [
              "<style>#sk-container-id-1 {color: black;background-color: white;}#sk-container-id-1 pre{padding: 0;}#sk-container-id-1 div.sk-toggleable {background-color: white;}#sk-container-id-1 label.sk-toggleable__label {cursor: pointer;display: block;width: 100%;margin-bottom: 0;padding: 0.3em;box-sizing: border-box;text-align: center;}#sk-container-id-1 label.sk-toggleable__label-arrow:before {content: \"▸\";float: left;margin-right: 0.25em;color: #696969;}#sk-container-id-1 label.sk-toggleable__label-arrow:hover:before {color: black;}#sk-container-id-1 div.sk-estimator:hover label.sk-toggleable__label-arrow:before {color: black;}#sk-container-id-1 div.sk-toggleable__content {max-height: 0;max-width: 0;overflow: hidden;text-align: left;background-color: #f0f8ff;}#sk-container-id-1 div.sk-toggleable__content pre {margin: 0.2em;color: black;border-radius: 0.25em;background-color: #f0f8ff;}#sk-container-id-1 input.sk-toggleable__control:checked~div.sk-toggleable__content {max-height: 200px;max-width: 100%;overflow: auto;}#sk-container-id-1 input.sk-toggleable__control:checked~label.sk-toggleable__label-arrow:before {content: \"▾\";}#sk-container-id-1 div.sk-estimator input.sk-toggleable__control:checked~label.sk-toggleable__label {background-color: #d4ebff;}#sk-container-id-1 div.sk-label input.sk-toggleable__control:checked~label.sk-toggleable__label {background-color: #d4ebff;}#sk-container-id-1 input.sk-hidden--visually {border: 0;clip: rect(1px 1px 1px 1px);clip: rect(1px, 1px, 1px, 1px);height: 1px;margin: -1px;overflow: hidden;padding: 0;position: absolute;width: 1px;}#sk-container-id-1 div.sk-estimator {font-family: monospace;background-color: #f0f8ff;border: 1px dotted black;border-radius: 0.25em;box-sizing: border-box;margin-bottom: 0.5em;}#sk-container-id-1 div.sk-estimator:hover {background-color: #d4ebff;}#sk-container-id-1 div.sk-parallel-item::after {content: \"\";width: 100%;border-bottom: 1px solid gray;flex-grow: 1;}#sk-container-id-1 div.sk-label:hover label.sk-toggleable__label {background-color: #d4ebff;}#sk-container-id-1 div.sk-serial::before {content: \"\";position: absolute;border-left: 1px solid gray;box-sizing: border-box;top: 0;bottom: 0;left: 50%;z-index: 0;}#sk-container-id-1 div.sk-serial {display: flex;flex-direction: column;align-items: center;background-color: white;padding-right: 0.2em;padding-left: 0.2em;position: relative;}#sk-container-id-1 div.sk-item {position: relative;z-index: 1;}#sk-container-id-1 div.sk-parallel {display: flex;align-items: stretch;justify-content: center;background-color: white;position: relative;}#sk-container-id-1 div.sk-item::before, #sk-container-id-1 div.sk-parallel-item::before {content: \"\";position: absolute;border-left: 1px solid gray;box-sizing: border-box;top: 0;bottom: 0;left: 50%;z-index: -1;}#sk-container-id-1 div.sk-parallel-item {display: flex;flex-direction: column;z-index: 1;position: relative;background-color: white;}#sk-container-id-1 div.sk-parallel-item:first-child::after {align-self: flex-end;width: 50%;}#sk-container-id-1 div.sk-parallel-item:last-child::after {align-self: flex-start;width: 50%;}#sk-container-id-1 div.sk-parallel-item:only-child::after {width: 0;}#sk-container-id-1 div.sk-dashed-wrapped {border: 1px dashed gray;margin: 0 0.4em 0.5em 0.4em;box-sizing: border-box;padding-bottom: 0.4em;background-color: white;}#sk-container-id-1 div.sk-label label {font-family: monospace;font-weight: bold;display: inline-block;line-height: 1.2em;}#sk-container-id-1 div.sk-label-container {text-align: center;}#sk-container-id-1 div.sk-container {/* jupyter's `normalize.less` sets `[hidden] { display: none; }` but bootstrap.min.css set `[hidden] { display: none !important; }` so we also need the `!important` here to be able to override the default hidden behavior on the sphinx rendered scikit-learn.org. See: https://github.com/scikit-learn/scikit-learn/issues/21755 */display: inline-block !important;position: relative;}#sk-container-id-1 div.sk-text-repr-fallback {display: none;}</style><div id=\"sk-container-id-1\" class=\"sk-top-container\"><div class=\"sk-text-repr-fallback\"><pre>DecisionTreeClassifier(criterion=&#x27;entropy&#x27;, max_features=&#x27;sqrt&#x27;,\n",
              "                       min_samples_split=3, random_state=546147920)</pre><b>In a Jupyter environment, please rerun this cell to show the HTML representation or trust the notebook. <br />On GitHub, the HTML representation is unable to render, please try loading this page with nbviewer.org.</b></div><div class=\"sk-container\" hidden><div class=\"sk-item\"><div class=\"sk-estimator sk-toggleable\"><input class=\"sk-toggleable__control sk-hidden--visually\" id=\"sk-estimator-id-1\" type=\"checkbox\" checked><label for=\"sk-estimator-id-1\" class=\"sk-toggleable__label sk-toggleable__label-arrow\">DecisionTreeClassifier</label><div class=\"sk-toggleable__content\"><pre>DecisionTreeClassifier(criterion=&#x27;entropy&#x27;, max_features=&#x27;sqrt&#x27;,\n",
              "                       min_samples_split=3, random_state=546147920)</pre></div></div></div></div></div>"
            ]
          },
          "metadata": {},
          "execution_count": 20
        }
      ],
      "source": [
        "model.estimators_[48]"
      ]
    },
    {
      "cell_type": "code",
      "execution_count": 21,
      "metadata": {
        "colab": {
          "base_uri": "https://localhost:8080/",
          "height": 961
        },
        "id": "W5Xv-Q-kjNHZ",
        "outputId": "ed7b052d-1208-42a7-aea8-8e2c439263bb"
      },
      "outputs": [
        {
          "output_type": "display_data",
          "data": {
            "text/plain": [
              "<Figure size 1200x1200 with 1 Axes>"
            ],
            "image/png": "[encoded data removed]"
          },
          "metadata": {}
        }
      ],
      "source": [
        "plt.figure(figsize=(12,12))\n",
        "\n",
        "tree_plot=tree.plot_tree(model.estimators_[48],\n",
        "                         max_depth=2,\n",
        "                         feature_names=list(df_train_completo_x),\n",
        "                         filled=True,\n",
        "                         rounded=True,\n",
        "                         class_names=True)\n",
        "\n",
        "plt.show(tree_plot)"
      ]
    },
    {
      "cell_type": "markdown",
      "metadata": {
        "id": "qJYVpellamFW"
      },
      "source": [
        "* Predicciones en el dataframe test."
      ]
    },
    {
      "cell_type": "code",
      "execution_count": 22,
      "metadata": {
        "id": "Xm2x6V5wy_Kh"
      },
      "outputs": [],
      "source": [
        "y_pred = model.predict(hotels_test_)\n",
        "\n",
        "df_submission = pd.DataFrame({'id': hotels_test['id'], 'is_canceled': y_pred})\n",
        "df_submission.to_csv('submission_best_rf.csv',index=False)"
      ]
    },
    {
      "cell_type": "markdown",
      "metadata": {
        "id": "VquB60mGZsov"
      },
      "source": [
        "#Clasificador XGBoost"
      ]
    },
    {
      "cell_type": "markdown",
      "metadata": {
        "id": "AwlH-1L3Y6VE"
      },
      "source": [
        "Este algoritmo se basa en el concepto de boosting, que implica la combinación de varios modelos de aprendizaje débiles para crear un modelo final más preciso y robusto. La idea detrás de XGBoost es mejorar el algoritmo de Gradient Boosting, que se centra en la optimización de una función de pérdida mediante la creación de árboles de decisión."
      ]
    },
    {
      "cell_type": "markdown",
      "metadata": {
        "id": "tv-fVtfIX29e"
      },
      "source": [
        "* Creamos el clasificador con los mejores parametros encontrados manualmente probando combinaciones de ellos."
      ]
    },
    {
      "cell_type": "code",
      "execution_count": 23,
      "metadata": {
        "colab": {
          "base_uri": "https://localhost:8080/",
          "height": 248
        },
        "id": "yrArokLbk5UJ",
        "outputId": "d9a4b4fa-bb57-4f38-c272-9411ea815c9a"
      },
      "outputs": [
        {
          "output_type": "execute_result",
          "data": {
            "text/plain": [
              "XGBClassifier(base_score=None, booster=None, callbacks=None,\n",
              "              colsample_bylevel=None, colsample_bynode=None, colsample_bytree=1,\n",
              "              early_stopping_rounds=None, enable_categorical=False, eta=0.5,\n",
              "              eval_metric=None, feature_types=None, gamma=None, gpu_id=None,\n",
              "              grow_policy=None, importance_type=None,\n",
              "              interaction_constraints=None, learning_rate=None, max_bin=None,\n",
              "              max_cat_threshold=None, max_cat_to_onehot=None,\n",
              "              max_delta_step=None, max_depth=11, max_leaves=None,\n",
              "              min_child_weight=None, missing=nan, monotone_constraints=None,\n",
              "              n_estimators=100, n_jobs=None, num_parallel_tree=None,\n",
              "              objective='reg:logistic', ...)"
            ],
            "text/html": [
              "<style>#sk-container-id-2 {color: black;background-color: white;}#sk-container-id-2 pre{padding: 0;}#sk-container-id-2 div.sk-toggleable {background-color: white;}#sk-container-id-2 label.sk-toggleable__label {cursor: pointer;display: block;width: 100%;margin-bottom: 0;padding: 0.3em;box-sizing: border-box;text-align: center;}#sk-container-id-2 label.sk-toggleable__label-arrow:before {content: \"▸\";float: left;margin-right: 0.25em;color: #696969;}#sk-container-id-2 label.sk-toggleable__label-arrow:hover:before {color: black;}#sk-container-id-2 div.sk-estimator:hover label.sk-toggleable__label-arrow:before {color: black;}#sk-container-id-2 div.sk-toggleable__content {max-height: 0;max-width: 0;overflow: hidden;text-align: left;background-color: #f0f8ff;}#sk-container-id-2 div.sk-toggleable__content pre {margin: 0.2em;color: black;border-radius: 0.25em;background-color: #f0f8ff;}#sk-container-id-2 input.sk-toggleable__control:checked~div.sk-toggleable__content {max-height: 200px;max-width: 100%;overflow: auto;}#sk-container-id-2 input.sk-toggleable__control:checked~label.sk-toggleable__label-arrow:before {content: \"▾\";}#sk-container-id-2 div.sk-estimator input.sk-toggleable__control:checked~label.sk-toggleable__label {background-color: #d4ebff;}#sk-container-id-2 div.sk-label input.sk-toggleable__control:checked~label.sk-toggleable__label {background-color: #d4ebff;}#sk-container-id-2 input.sk-hidden--visually {border: 0;clip: rect(1px 1px 1px 1px);clip: rect(1px, 1px, 1px, 1px);height: 1px;margin: -1px;overflow: hidden;padding: 0;position: absolute;width: 1px;}#sk-container-id-2 div.sk-estimator {font-family: monospace;background-color: #f0f8ff;border: 1px dotted black;border-radius: 0.25em;box-sizing: border-box;margin-bottom: 0.5em;}#sk-container-id-2 div.sk-estimator:hover {background-color: #d4ebff;}#sk-container-id-2 div.sk-parallel-item::after {content: \"\";width: 100%;border-bottom: 1px solid gray;flex-grow: 1;}#sk-container-id-2 div.sk-label:hover label.sk-toggleable__label {background-color: #d4ebff;}#sk-container-id-2 div.sk-serial::before {content: \"\";position: absolute;border-left: 1px solid gray;box-sizing: border-box;top: 0;bottom: 0;left: 50%;z-index: 0;}#sk-container-id-2 div.sk-serial {display: flex;flex-direction: column;align-items: center;background-color: white;padding-right: 0.2em;padding-left: 0.2em;position: relative;}#sk-container-id-2 div.sk-item {position: relative;z-index: 1;}#sk-container-id-2 div.sk-parallel {display: flex;align-items: stretch;justify-content: center;background-color: white;position: relative;}#sk-container-id-2 div.sk-item::before, #sk-container-id-2 div.sk-parallel-item::before {content: \"\";position: absolute;border-left: 1px solid gray;box-sizing: border-box;top: 0;bottom: 0;left: 50%;z-index: -1;}#sk-container-id-2 div.sk-parallel-item {display: flex;flex-direction: column;z-index: 1;position: relative;background-color: white;}#sk-container-id-2 div.sk-parallel-item:first-child::after {align-self: flex-end;width: 50%;}#sk-container-id-2 div.sk-parallel-item:last-child::after {align-self: flex-start;width: 50%;}#sk-container-id-2 div.sk-parallel-item:only-child::after {width: 0;}#sk-container-id-2 div.sk-dashed-wrapped {border: 1px dashed gray;margin: 0 0.4em 0.5em 0.4em;box-sizing: border-box;padding-bottom: 0.4em;background-color: white;}#sk-container-id-2 div.sk-label label {font-family: monospace;font-weight: bold;display: inline-block;line-height: 1.2em;}#sk-container-id-2 div.sk-label-container {text-align: center;}#sk-container-id-2 div.sk-container {/* jupyter's `normalize.less` sets `[hidden] { display: none; }` but bootstrap.min.css set `[hidden] { display: none !important; }` so we also need the `!important` here to be able to override the default hidden behavior on the sphinx rendered scikit-learn.org. See: https://github.com/scikit-learn/scikit-learn/issues/21755 */display: inline-block !important;position: relative;}#sk-container-id-2 div.sk-text-repr-fallback {display: none;}</style><div id=\"sk-container-id-2\" class=\"sk-top-container\"><div class=\"sk-text-repr-fallback\"><pre>XGBClassifier(base_score=None, booster=None, callbacks=None,\n",
              "              colsample_bylevel=None, colsample_bynode=None, colsample_bytree=1,\n",
              "              early_stopping_rounds=None, enable_categorical=False, eta=0.5,\n",
              "              eval_metric=None, feature_types=None, gamma=None, gpu_id=None,\n",
              "              grow_policy=None, importance_type=None,\n",
              "              interaction_constraints=None, learning_rate=None, max_bin=None,\n",
              "              max_cat_threshold=None, max_cat_to_onehot=None,\n",
              "              max_delta_step=None, max_depth=11, max_leaves=None,\n",
              "              min_child_weight=None, missing=nan, monotone_constraints=None,\n",
              "              n_estimators=100, n_jobs=None, num_parallel_tree=None,\n",
              "              objective=&#x27;reg:logistic&#x27;, ...)</pre><b>In a Jupyter environment, please rerun this cell to show the HTML representation or trust the notebook. <br />On GitHub, the HTML representation is unable to render, please try loading this page with nbviewer.org.</b></div><div class=\"sk-container\" hidden><div class=\"sk-item\"><div class=\"sk-estimator sk-toggleable\"><input class=\"sk-toggleable__control sk-hidden--visually\" id=\"sk-estimator-id-2\" type=\"checkbox\" checked><label for=\"sk-estimator-id-2\" class=\"sk-toggleable__label sk-toggleable__label-arrow\">XGBClassifier</label><div class=\"sk-toggleable__content\"><pre>XGBClassifier(base_score=None, booster=None, callbacks=None,\n",
              "              colsample_bylevel=None, colsample_bynode=None, colsample_bytree=1,\n",
              "              early_stopping_rounds=None, enable_categorical=False, eta=0.5,\n",
              "              eval_metric=None, feature_types=None, gamma=None, gpu_id=None,\n",
              "              grow_policy=None, importance_type=None,\n",
              "              interaction_constraints=None, learning_rate=None, max_bin=None,\n",
              "              max_cat_threshold=None, max_cat_to_onehot=None,\n",
              "              max_delta_step=None, max_depth=11, max_leaves=None,\n",
              "              min_child_weight=None, missing=nan, monotone_constraints=None,\n",
              "              n_estimators=100, n_jobs=None, num_parallel_tree=None,\n",
              "              objective=&#x27;reg:logistic&#x27;, ...)</pre></div></div></div></div></div>"
            ]
          },
          "metadata": {},
          "execution_count": 23
        }
      ],
      "source": [
        "xgb_model = xgb.XGBClassifier(random_state=0, eta=0.5, n_estimators=100, max_depth=11, colsample_bytree=1, subsample=1, objective='reg:logistic')\n",
        "xgb_model.fit(x_train, y_train)"
      ]
    },
    {
      "cell_type": "code",
      "execution_count": 24,
      "metadata": {
        "colab": {
          "base_uri": "https://localhost:8080/",
          "height": 707
        },
        "id": "JcM7F8nhk7qI",
        "outputId": "d21071f9-16e7-4bde-e638-46f300a17e88"
      },
      "outputs": [
        {
          "output_type": "stream",
          "name": "stdout",
          "text": [
            "AUC: 0.9492001541963074\n",
            "              precision    recall  f1-score   support\n",
            "\n",
            "           0       0.87      0.86      0.87      5966\n",
            "           1       0.87      0.88      0.87      6170\n",
            "\n",
            "    accuracy                           0.87     12136\n",
            "   macro avg       0.87      0.87      0.87     12136\n",
            "weighted avg       0.87      0.87      0.87     12136\n",
            "\n",
            "Accuracy: 0.8705504284772577\n",
            "Precision: 0.8695163104611924\n",
            "Recall: 0.8769854132901135\n",
            "f1 score: 0.8732348906640846\n"
          ]
        },
        {
          "output_type": "display_data",
          "data": {
            "text/plain": [
              "<Figure size 640x480 with 2 Axes>"
            ],
            "image/png": "[encoded data removed]"
          },
          "metadata": {}
        }
      ],
      "source": [
        "#Evaluo en el set de test\n",
        "y_pred_proba= xgb_model.predict_proba(x_test)[:, 1]\n",
        "print('AUC:',roc_auc_score(y_test, y_pred_proba))\n",
        "\n",
        "#Matriz de Confusion\n",
        "y_pred=xgb_model.predict(x_test)\n",
        "\n",
        "metricas(y_pred,y_test)\n",
        "\n",
        "accuracy=accuracy_score(y_test,y_pred)\n",
        "precision=precision_score(y_test,y_pred)\n",
        "recall=recall_score(y_test,y_pred)\n",
        "f1=f1_score(y_test,y_pred)\n",
        "\n",
        "print(\"Accuracy: \"+str(accuracy))\n",
        "print(\"Precision: \"+str(precision))\n",
        "print(\"Recall: \"+str(recall))\n",
        "print(\"f1 score: \"+str(f1))"
      ]
    },
    {
      "cell_type": "markdown",
      "metadata": {
        "id": "yebqFzc6auUb"
      },
      "source": [
        "* Predicciones en el dataframe test."
      ]
    },
    {
      "cell_type": "code",
      "execution_count": 25,
      "metadata": {
        "id": "nj3lWEGdatLc"
      },
      "outputs": [],
      "source": [
        "y_pred = xgb_model.predict(hotels_test_)\n",
        "\n",
        "df_submission = pd.DataFrame({'id': hotels_test['id'], 'is_canceled': y_pred})\n",
        "df_submission.to_csv('submission_xgboost.csv',index=False)"
      ]
    },
    {
      "cell_type": "markdown",
      "metadata": {
        "id": "DqNRty2Yk_qJ"
      },
      "source": [
        "**XGBoost con Cross Validation**"
      ]
    },
    {
      "cell_type": "code",
      "execution_count": 26,
      "metadata": {
        "colab": {
          "base_uri": "https://localhost:8080/",
          "height": 331
        },
        "id": "7bh6cRy2k_KA",
        "outputId": "b82ad2c2-28e1-4cde-a4ae-bfaba0dd54af"
      },
      "outputs": [
        {
          "output_type": "execute_result",
          "data": {
            "text/plain": [
              "   train-auc-mean  train-auc-std  test-auc-mean  test-auc-std\n",
              "0        0.936587       0.000428       0.926383      0.002756\n",
              "1        0.946018       0.001551       0.933151      0.003036\n",
              "2        0.953643       0.000621       0.937506      0.002637\n",
              "3        0.959126       0.001110       0.939624      0.002580\n",
              "4        0.963096       0.001277       0.941140      0.001787\n",
              "5        0.968479       0.001522       0.941799      0.001728\n",
              "6        0.971661       0.001211       0.942001      0.001729\n",
              "7        0.973564       0.001427       0.942195      0.001749\n",
              "8        0.975556       0.001302       0.942313      0.002051"
            ],
            "text/html": [
              "\n",
              "  <div id=\"df-a17c778e-f978-477c-811a-a109701ae3f1\">\n",
              "    <div class=\"colab-df-container\">\n",
              "      <div>\n",
              "<style scoped>\n",
              "    .dataframe tbody tr th:only-of-type {\n",
              "        vertical-align: middle;\n",
              "    }\n",
              "\n",
              "    .dataframe tbody tr th {\n",
              "        vertical-align: top;\n",
              "    }\n",
              "\n",
              "    .dataframe thead th {\n",
              "        text-align: right;\n",
              "    }\n",
              "</style>\n",
              "<table border=\"1\" class=\"dataframe\">\n",
              "  <thead>\n",
              "    <tr style=\"text-align: right;\">\n",
              "      <th></th>\n",
              "      <th>train-auc-mean</th>\n",
              "      <th>train-auc-std</th>\n",
              "      <th>test-auc-mean</th>\n",
              "      <th>test-auc-std</th>\n",
              "    </tr>\n",
              "  </thead>\n",
              "  <tbody>\n",
              "    <tr>\n",
              "      <th>0</th>\n",
              "      <td>0.936587</td>\n",
              "      <td>0.000428</td>\n",
              "      <td>0.926383</td>\n",
              "      <td>0.002756</td>\n",
              "    </tr>\n",
              "    <tr>\n",
              "      <th>1</th>\n",
              "      <td>0.946018</td>\n",
              "      <td>0.001551</td>\n",
              "      <td>0.933151</td>\n",
              "      <td>0.003036</td>\n",
              "    </tr>\n",
              "    <tr>\n",
              "      <th>2</th>\n",
              "      <td>0.953643</td>\n",
              "      <td>0.000621</td>\n",
              "      <td>0.937506</td>\n",
              "      <td>0.002637</td>\n",
              "    </tr>\n",
              "    <tr>\n",
              "      <th>3</th>\n",
              "      <td>0.959126</td>\n",
              "      <td>0.001110</td>\n",
              "      <td>0.939624</td>\n",
              "      <td>0.002580</td>\n",
              "    </tr>\n",
              "    <tr>\n",
              "      <th>4</th>\n",
              "      <td>0.963096</td>\n",
              "      <td>0.001277</td>\n",
              "      <td>0.941140</td>\n",
              "      <td>0.001787</td>\n",
              "    </tr>\n",
              "    <tr>\n",
              "      <th>5</th>\n",
              "      <td>0.968479</td>\n",
              "      <td>0.001522</td>\n",
              "      <td>0.941799</td>\n",
              "      <td>0.001728</td>\n",
              "    </tr>\n",
              "    <tr>\n",
              "      <th>6</th>\n",
              "      <td>0.971661</td>\n",
              "      <td>0.001211</td>\n",
              "      <td>0.942001</td>\n",
              "      <td>0.001729</td>\n",
              "    </tr>\n",
              "    <tr>\n",
              "      <th>7</th>\n",
              "      <td>0.973564</td>\n",
              "      <td>0.001427</td>\n",
              "      <td>0.942195</td>\n",
              "      <td>0.001749</td>\n",
              "    </tr>\n",
              "    <tr>\n",
              "      <th>8</th>\n",
              "      <td>0.975556</td>\n",
              "      <td>0.001302</td>\n",
              "      <td>0.942313</td>\n",
              "      <td>0.002051</td>\n",
              "    </tr>\n",
              "  </tbody>\n",
              "</table>\n",
              "</div>\n",
              "      <button class=\"colab-df-convert\" onclick=\"convertToInteractive('df-a17c778e-f978-477c-811a-a109701ae3f1')\"\n",
              "              title=\"Convert this dataframe to an interactive table.\"\n",
              "              style=\"display:none;\">\n",
              "        \n",
              "  <svg xmlns=\"http://www.w3.org/2000/svg\" height=\"24px\"viewBox=\"0 0 24 24\"\n",
              "       width=\"24px\">\n",
              "    <path d=\"M0 0h24v24H0V0z\" fill=\"none\"/>\n",
              "    <path d=\"M18.56 5.44l.94 2.06.94-2.06 2.06-.94-2.06-.94-.94-2.06-.94 2.06-2.06.94zm-11 1L8.5 8.5l.94-2.06 2.06-.94-2.06-.94L8.5 2.5l-.94 2.06-2.06.94zm10 10l.94 2.06.94-2.06 2.06-.94-2.06-.94-.94-2.06-.94 2.06-2.06.94z\"/><path d=\"M17.41 7.96l-1.37-1.37c-.4-.4-.92-.59-1.43-.59-.52 0-1.04.2-1.43.59L10.3 9.45l-7.72 7.72c-.78.78-.78 2.05 0 2.83L4 21.41c.39.39.9.59 1.41.59.51 0 1.02-.2 1.41-.59l7.78-7.78 2.81-2.81c.8-.78.8-2.07 0-2.86zM5.41 20L4 18.59l7.72-7.72 1.47 1.35L5.41 20z\"/>\n",
              "  </svg>\n",
              "      </button>\n",
              "      \n",
              "  <style>\n",
              "    .colab-df-container {\n",
              "      display:flex;\n",
              "      flex-wrap:wrap;\n",
              "      gap: 12px;\n",
              "    }\n",
              "\n",
              "    .colab-df-convert {\n",
              "      background-color: #E8F0FE;\n",
              "      border: none;\n",
              "      border-radius: 50%;\n",
              "      cursor: pointer;\n",
              "      display: none;\n",
              "      fill: #1967D2;\n",
              "      height: 32px;\n",
              "      padding: 0 0 0 0;\n",
              "      width: 32px;\n",
              "    }\n",
              "\n",
              "    .colab-df-convert:hover {\n",
              "      background-color: #E2EBFA;\n",
              "      box-shadow: 0px 1px 2px rgba(60, 64, 67, 0.3), 0px 1px 3px 1px rgba(60, 64, 67, 0.15);\n",
              "      fill: #174EA6;\n",
              "    }\n",
              "\n",
              "    [theme=dark] .colab-df-convert {\n",
              "      background-color: #3B4455;\n",
              "      fill: #D2E3FC;\n",
              "    }\n",
              "\n",
              "    [theme=dark] .colab-df-convert:hover {\n",
              "      background-color: #434B5C;\n",
              "      box-shadow: 0px 1px 3px 1px rgba(0, 0, 0, 0.15);\n",
              "      filter: drop-shadow(0px 1px 2px rgba(0, 0, 0, 0.3));\n",
              "      fill: #FFFFFF;\n",
              "    }\n",
              "  </style>\n",
              "\n",
              "      <script>\n",
              "        const buttonEl =\n",
              "          document.querySelector('#df-a17c778e-f978-477c-811a-a109701ae3f1 button.colab-df-convert');\n",
              "        buttonEl.style.display =\n",
              "          google.colab.kernel.accessAllowed ? 'block' : 'none';\n",
              "\n",
              "        async function convertToInteractive(key) {\n",
              "          const element = document.querySelector('#df-a17c778e-f978-477c-811a-a109701ae3f1');\n",
              "          const dataTable =\n",
              "            await google.colab.kernel.invokeFunction('convertToInteractive',\n",
              "                                                     [key], {});\n",
              "          if (!dataTable) return;\n",
              "\n",
              "          const docLinkHtml = 'Like what you see? Visit the ' +\n",
              "            '<a target=\"_blank\" href=https://colab.research.google.com/notebooks/data_table.ipynb>data table notebook</a>'\n",
              "            + ' to learn more about interactive tables.';\n",
              "          element.innerHTML = '';\n",
              "          dataTable['output_type'] = 'display_data';\n",
              "          await google.colab.output.renderOutput(dataTable, element);\n",
              "          const docLink = document.createElement('div');\n",
              "          docLink.innerHTML = docLinkHtml;\n",
              "          element.appendChild(docLink);\n",
              "        }\n",
              "      </script>\n",
              "    </div>\n",
              "  </div>\n",
              "  "
            ]
          },
          "metadata": {},
          "execution_count": 26
        }
      ],
      "source": [
        "#Datos de entrenamiento en formato DMatrix\n",
        "data_dmatrix = xgb.DMatrix(data=x_train, label=y_train)\n",
        "\n",
        "#Entreno CV para probar el learning rate\n",
        "results=xgb.cv(dtrain=data_dmatrix,nfold=5,params={'learning_rate':0.5, 'max_depth': 11},num_boost_round=100,metrics='auc',seed=0, early_stopping_rounds=9)\n",
        "results"
      ]
    },
    {
      "cell_type": "markdown",
      "metadata": {
        "id": "wOidzV9GZvHy"
      },
      "source": [
        "#Ensambles hibiridos Stacking y Voting"
      ]
    },
    {
      "cell_type": "markdown",
      "metadata": {
        "id": "tp5qKpDbZ0Ke"
      },
      "source": [
        "##Stacking"
      ]
    },
    {
      "cell_type": "markdown",
      "metadata": {
        "id": "sT7bjJ53Z6qZ"
      },
      "source": [
        "El stacking combina varios modelos de aprendizaje automático de nivel inferior en un modelo de nivel superior que utiliza las predicciones de los modelos de nivel inferior como entradas. El modelo de nivel superior se entrena para predecir el resultado final en función de las salidas de los modelos de nivel inferior."
      ]
    },
    {
      "cell_type": "code",
      "execution_count": 27,
      "metadata": {
        "id": "QcqHDJ6N5cxe"
      },
      "outputs": [],
      "source": [
        "#Funcion para evaluar los modelos 5fold -CV (repite 2 veces)\n",
        "def evaluate_model(model, x, y):\n",
        "    cv = RepeatedStratifiedKFold(n_splits=5, n_repeats=2, random_state=1)\n",
        "    scores = cross_val_score(model, x, y, scoring='accuracy', cv=cv, verbose=1, n_jobs=3, error_score='raise')\n",
        "    return scores"
      ]
    },
    {
      "cell_type": "code",
      "execution_count": 28,
      "metadata": {
        "id": "MVwv1fSo5-g5"
      },
      "outputs": [],
      "source": [
        "#Funcion para plotear a performance\n",
        "def plot_results(model_scores, name):\n",
        "    \n",
        "    model_names = list(model_scores.keys())\n",
        "    results = [model_scores[model] for model in model_names]\n",
        "    fig = go.Figure()\n",
        "    for model, result in zip(model_names, results):\n",
        "        fig.add_trace(go.Box(\n",
        "            y=result,\n",
        "            name=model,\n",
        "            boxpoints='all',\n",
        "            jitter=0.5,\n",
        "            whiskerwidth=0.2,\n",
        "            marker_size=2,\n",
        "            line_width=1)\n",
        "        )\n",
        "    \n",
        "    fig.update_layout(\n",
        "    title='Performance of Different Models Using 5-Fold Cross-Validation',\n",
        "    paper_bgcolor='rgb(243, 243, 243)',\n",
        "    plot_bgcolor='rgb(243, 243, 243)',\n",
        "    xaxis_title='Model',\n",
        "    yaxis_title='Accuracy',\n",
        "    showlegend=False)\n",
        "    fig.show()"
      ]
    },
    {
      "cell_type": "code",
      "execution_count": 29,
      "metadata": {
        "colab": {
          "base_uri": "https://localhost:8080/"
        },
        "id": "PL0ev46E6YEM",
        "outputId": "5244afcf-7e80-48f5-fc1b-52c549006347"
      },
      "outputs": [
        {
          "output_type": "stream",
          "name": "stdout",
          "text": [
            "Evaluating random_forest\n"
          ]
        },
        {
          "output_type": "stream",
          "name": "stderr",
          "text": [
            "[Parallel(n_jobs=3)]: Using backend LokyBackend with 3 concurrent workers.\n",
            "[Parallel(n_jobs=3)]: Done  10 out of  10 | elapsed:   43.9s finished\n",
            "[Parallel(n_jobs=3)]: Using backend LokyBackend with 3 concurrent workers.\n"
          ]
        },
        {
          "output_type": "stream",
          "name": "stdout",
          "text": [
            "Evaluating xgb\n"
          ]
        },
        {
          "output_type": "stream",
          "name": "stderr",
          "text": [
            "[Parallel(n_jobs=3)]: Done  10 out of  10 | elapsed:  2.7min finished\n",
            "[Parallel(n_jobs=3)]: Using backend LokyBackend with 3 concurrent workers.\n"
          ]
        },
        {
          "output_type": "stream",
          "name": "stdout",
          "text": [
            "Evaluating log-reg\n"
          ]
        },
        {
          "output_type": "stream",
          "name": "stderr",
          "text": [
            "[Parallel(n_jobs=3)]: Done  10 out of  10 | elapsed:  2.3min finished\n"
          ]
        }
      ],
      "source": [
        "#Modelos Base\n",
        "base_models = {'random_forest':RandomForestClassifier(max_features='auto', \n",
        "                             oob_score=True, \n",
        "                             random_state=2, \n",
        "                             n_jobs=-1,\n",
        "                             criterion=\"entropy\", \n",
        "                             min_samples_leaf=1,\n",
        "                             min_samples_split=3,\n",
        "                             n_estimators=80),\n",
        "               'xgb': xgb.XGBClassifier(random_state=0, eta=0.5, n_estimators=100, max_depth=11, colsample_bytree=1, subsample=1, objective='reg:logistic'),\n",
        "               'log-reg': LogisticRegression(max_iter=5000)}\n",
        "\n",
        "\n",
        "#Guarda los scores de cada modelo\n",
        "model_scores = defaultdict()\n",
        "\n",
        "#Entreno los clasificadores\n",
        "for name, model in base_models.items():\n",
        "    print('Evaluating {}'.format(name))\n",
        "    scores = evaluate_model(model, x_train, y_train)\n",
        "    model_scores[name] = scores"
      ]
    },
    {
      "cell_type": "code",
      "execution_count": 30,
      "metadata": {
        "id": "7FL6kiju8I1-"
      },
      "outputs": [],
      "source": [
        "#Modelos Base\n",
        "base_models = [('random_forest', RandomForestClassifier(max_features='auto', \n",
        "                             oob_score=True, \n",
        "                             random_state=2, \n",
        "                             n_jobs=-1,\n",
        "                             criterion=\"entropy\", \n",
        "                             min_samples_leaf=1,\n",
        "                             min_samples_split=3,\n",
        "                             n_estimators=80)),\n",
        "               ('xgb', xgb.XGBClassifier(random_state=0, eta=0.5, n_estimators=100, max_depth=11, colsample_bytree=1, subsample=1, objective='reg:logistic')),\n",
        "               ('log-reg', LogisticRegression(max_iter=5000))]\n",
        "\n",
        "#Meta Modelo\n",
        "meta_model = LogisticRegressionCV()\n",
        "\n",
        "#Ensemble Stacking\n",
        "stacking_model = StackingClassifier(estimators=base_models, \n",
        "                                    final_estimator=meta_model, \n",
        "                                    passthrough=True, \n",
        "                                    cv=5,\n",
        "                                    verbose=2)"
      ]
    },
    {
      "cell_type": "code",
      "execution_count": 31,
      "metadata": {
        "colab": {
          "base_uri": "https://localhost:8080/"
        },
        "id": "8UpASxMb8LdV",
        "outputId": "11dc820f-e269-4a13-c439-70493c7976f8"
      },
      "outputs": [
        {
          "output_type": "stream",
          "name": "stderr",
          "text": [
            "[Parallel(n_jobs=3)]: Using backend LokyBackend with 3 concurrent workers.\n",
            "[Parallel(n_jobs=3)]: Done  10 out of  10 | elapsed: 31.3min finished\n"
          ]
        }
      ],
      "source": [
        "#Performance el modelo en entrenamiento\n",
        "stacking_scores = evaluate_model(stacking_model, x_train, y_train)\n",
        "model_scores['stacking'] = stacking_scores"
      ]
    },
    {
      "cell_type": "code",
      "execution_count": 32,
      "metadata": {
        "colab": {
          "base_uri": "https://localhost:8080/",
          "height": 542
        },
        "id": "N1BFm1yp8PKG",
        "outputId": "33669604-e64d-447f-b972-69141eeae888"
      },
      "outputs": [
        {
          "output_type": "display_data",
          "data": {
            "text/html": [
              "<html>\n",
              "<head><meta charset=\"utf-8\" /></head>\n",
              "<body>\n",
              "    <div>            <script src=\"https://cdnjs.cloudflare.com/ajax/libs/mathjax/2.7.5/MathJax.js?config=TeX-AMS-MML_SVG\"></script><script type=\"text/javascript\">if (window.MathJax && window.MathJax.Hub && window.MathJax.Hub.Config) {window.MathJax.Hub.Config({SVG: {font: \"STIX-Web\"}});}</script>                <script type=\"text/javascript\">window.PlotlyConfig = {MathJaxConfig: 'local'};</script>\n",
              "        <script src=\"https://cdn.plot.ly/plotly-2.18.2.min.js\"></script>                <div id=\"a82de8fb-3193-41f2-941b-de86345f142e\" class=\"plotly-graph-div\" style=\"height:525px; width:100%;\"></div>            <script type=\"text/javascript\">                                    window.PLOTLYENV=window.PLOTLYENV || {};                                    if (document.getElementById(\"a82de8fb-3193-41f2-941b-de86345f142e\")) {                    Plotly.newPlot(                        \"a82de8fb-3193-41f2-941b-de86345f142e\",                        [{\"boxpoints\":\"all\",\"jitter\":0.5,\"line\":{\"width\":1},\"marker\":{\"size\":2},\"name\":\"random_forest\",\"whiskerwidth\":0.2,\"y\":[0.8738284066330209,0.8704294984035431,0.873931403852096,0.8790688092295015,0.8775236918005769,0.8718714594705943,0.8773303120815737,0.8678545679266659,0.8829831067161105,0.876802637000412],\"type\":\"box\"},{\"boxpoints\":\"all\",\"jitter\":0.5,\"line\":{\"width\":1},\"marker\":{\"size\":2},\"name\":\"xgb\",\"whiskerwidth\":0.2,\"y\":[0.8693995262127923,0.8580698321145329,0.8680605623648161,0.8721672847136382,0.8752575195714875,0.8711504789370687,0.87279843444227,0.8613657431249356,0.8756695508858673,0.8740214256283477],\"type\":\"box\"},{\"boxpoints\":\"all\",\"jitter\":0.5,\"line\":{\"width\":1},\"marker\":{\"size\":2},\"name\":\"log-reg\",\"whiskerwidth\":0.2,\"y\":[0.7884437120197755,0.7897826758677515,0.7867957565145741,0.7880098887515451,0.7911001236093943,0.7877227314862498,0.7883407148007003,0.7812339066845195,0.792027194066749,0.796250515039143],\"type\":\"box\"},{\"boxpoints\":\"all\",\"jitter\":0.5,\"line\":{\"width\":1},\"marker\":{\"size\":2},\"name\":\"stacking\",\"whiskerwidth\":0.2,\"y\":[0.8757853537954475,0.8689875373364919,0.875270367700072,0.8773176761433868,0.8803049031726411,0.8725924400041198,0.8790812648058502,0.8679575651457411,0.8817470127729707,0.8795838483724763],\"type\":\"box\"}],                        {\"template\":{\"data\":{\"histogram2dcontour\":[{\"type\":\"histogram2dcontour\",\"colorbar\":{\"outlinewidth\":0,\"ticks\":\"\"},\"colorscale\":[[0.0,\"#0d0887\"],[0.1111111111111111,\"#46039f\"],[0.2222222222222222,\"#7201a8\"],[0.3333333333333333,\"#9c179e\"],[0.4444444444444444,\"#bd3786\"],[0.5555555555555556,\"#d8576b\"],[0.6666666666666666,\"#ed7953\"],[0.7777777777777778,\"#fb9f3a\"],[0.8888888888888888,\"#fdca26\"],[1.0,\"#f0f921\"]]}],\"choropleth\":[{\"type\":\"choropleth\",\"colorbar\":{\"outlinewidth\":0,\"ticks\":\"\"}}],\"histogram2d\":[{\"type\":\"histogram2d\",\"colorbar\":{\"outlinewidth\":0,\"ticks\":\"\"},\"colorscale\":[[0.0,\"#0d0887\"],[0.1111111111111111,\"#46039f\"],[0.2222222222222222,\"#7201a8\"],[0.3333333333333333,\"#9c179e\"],[0.4444444444444444,\"#bd3786\"],[0.5555555555555556,\"#d8576b\"],[0.6666666666666666,\"#ed7953\"],[0.7777777777777778,\"#fb9f3a\"],[0.8888888888888888,\"#fdca26\"],[1.0,\"#f0f921\"]]}],\"heatmap\":[{\"type\":\"heatmap\",\"colorbar\":{\"outlinewidth\":0,\"ticks\":\"\"},\"colorscale\":[[0.0,\"#0d0887\"],[0.1111111111111111,\"#46039f\"],[0.2222222222222222,\"#7201a8\"],[0.3333333333333333,\"#9c179e\"],[0.4444444444444444,\"#bd3786\"],[0.5555555555555556,\"#d8576b\"],[0.6666666666666666,\"#ed7953\"],[0.7777777777777778,\"#fb9f3a\"],[0.8888888888888888,\"#fdca26\"],[1.0,\"#f0f921\"]]}],\"heatmapgl\":[{\"type\":\"heatmapgl\",\"colorbar\":{\"outlinewidth\":0,\"ticks\":\"\"},\"colorscale\":[[0.0,\"#0d0887\"],[0.1111111111111111,\"#46039f\"],[0.2222222222222222,\"#7201a8\"],[0.3333333333333333,\"#9c179e\"],[0.4444444444444444,\"#bd3786\"],[0.5555555555555556,\"#d8576b\"],[0.6666666666666666,\"#ed7953\"],[0.7777777777777778,\"#fb9f3a\"],[0.8888888888888888,\"#fdca26\"],[1.0,\"#f0f921\"]]}],\"contourcarpet\":[{\"type\":\"contourcarpet\",\"colorbar\":{\"outlinewidth\":0,\"ticks\":\"\"}}],\"contour\":[{\"type\":\"contour\",\"colorbar\":{\"outlinewidth\":0,\"ticks\":\"\"},\"colorscale\":[[0.0,\"#0d0887\"],[0.1111111111111111,\"#46039f\"],[0.2222222222222222,\"#7201a8\"],[0.3333333333333333,\"#9c179e\"],[0.4444444444444444,\"#bd3786\"],[0.5555555555555556,\"#d8576b\"],[0.6666666666666666,\"#ed7953\"],[0.7777777777777778,\"#fb9f3a\"],[0.8888888888888888,\"#fdca26\"],[1.0,\"#f0f921\"]]}],\"surface\":[{\"type\":\"surface\",\"colorbar\":{\"outlinewidth\":0,\"ticks\":\"\"},\"colorscale\":[[0.0,\"#0d0887\"],[0.1111111111111111,\"#46039f\"],[0.2222222222222222,\"#7201a8\"],[0.3333333333333333,\"#9c179e\"],[0.4444444444444444,\"#bd3786\"],[0.5555555555555556,\"#d8576b\"],[0.6666666666666666,\"#ed7953\"],[0.7777777777777778,\"#fb9f3a\"],[0.8888888888888888,\"#fdca26\"],[1.0,\"#f0f921\"]]}],\"mesh3d\":[{\"type\":\"mesh3d\",\"colorbar\":{\"outlinewidth\":0,\"ticks\":\"\"}}],\"scatter\":[{\"fillpattern\":{\"fillmode\":\"overlay\",\"size\":10,\"solidity\":0.2},\"type\":\"scatter\"}],\"parcoords\":[{\"type\":\"parcoords\",\"line\":{\"colorbar\":{\"outlinewidth\":0,\"ticks\":\"\"}}}],\"scatterpolargl\":[{\"type\":\"scatterpolargl\",\"marker\":{\"colorbar\":{\"outlinewidth\":0,\"ticks\":\"\"}}}],\"bar\":[{\"error_x\":{\"color\":\"#2a3f5f\"},\"error_y\":{\"color\":\"#2a3f5f\"},\"marker\":{\"line\":{\"color\":\"#E5ECF6\",\"width\":0.5},\"pattern\":{\"fillmode\":\"overlay\",\"size\":10,\"solidity\":0.2}},\"type\":\"bar\"}],\"scattergeo\":[{\"type\":\"scattergeo\",\"marker\":{\"colorbar\":{\"outlinewidth\":0,\"ticks\":\"\"}}}],\"scatterpolar\":[{\"type\":\"scatterpolar\",\"marker\":{\"colorbar\":{\"outlinewidth\":0,\"ticks\":\"\"}}}],\"histogram\":[{\"marker\":{\"pattern\":{\"fillmode\":\"overlay\",\"size\":10,\"solidity\":0.2}},\"type\":\"histogram\"}],\"scattergl\":[{\"type\":\"scattergl\",\"marker\":{\"colorbar\":{\"outlinewidth\":0,\"ticks\":\"\"}}}],\"scatter3d\":[{\"type\":\"scatter3d\",\"line\":{\"colorbar\":{\"outlinewidth\":0,\"ticks\":\"\"}},\"marker\":{\"colorbar\":{\"outlinewidth\":0,\"ticks\":\"\"}}}],\"scattermapbox\":[{\"type\":\"scattermapbox\",\"marker\":{\"colorbar\":{\"outlinewidth\":0,\"ticks\":\"\"}}}],\"scatterternary\":[{\"type\":\"scatterternary\",\"marker\":{\"colorbar\":{\"outlinewidth\":0,\"ticks\":\"\"}}}],\"scattercarpet\":[{\"type\":\"scattercarpet\",\"marker\":{\"colorbar\":{\"outlinewidth\":0,\"ticks\":\"\"}}}],\"carpet\":[{\"aaxis\":{\"endlinecolor\":\"#2a3f5f\",\"gridcolor\":\"white\",\"linecolor\":\"white\",\"minorgridcolor\":\"white\",\"startlinecolor\":\"#2a3f5f\"},\"baxis\":{\"endlinecolor\":\"#2a3f5f\",\"gridcolor\":\"white\",\"linecolor\":\"white\",\"minorgridcolor\":\"white\",\"startlinecolor\":\"#2a3f5f\"},\"type\":\"carpet\"}],\"table\":[{\"cells\":{\"fill\":{\"color\":\"#EBF0F8\"},\"line\":{\"color\":\"white\"}},\"header\":{\"fill\":{\"color\":\"#C8D4E3\"},\"line\":{\"color\":\"white\"}},\"type\":\"table\"}],\"barpolar\":[{\"marker\":{\"line\":{\"color\":\"#E5ECF6\",\"width\":0.5},\"pattern\":{\"fillmode\":\"overlay\",\"size\":10,\"solidity\":0.2}},\"type\":\"barpolar\"}],\"pie\":[{\"automargin\":true,\"type\":\"pie\"}]},\"layout\":{\"autotypenumbers\":\"strict\",\"colorway\":[\"#636efa\",\"#EF553B\",\"#00cc96\",\"#ab63fa\",\"#FFA15A\",\"#19d3f3\",\"#FF6692\",\"#B6E880\",\"#FF97FF\",\"#FECB52\"],\"font\":{\"color\":\"#2a3f5f\"},\"hovermode\":\"closest\",\"hoverlabel\":{\"align\":\"left\"},\"paper_bgcolor\":\"white\",\"plot_bgcolor\":\"#E5ECF6\",\"polar\":{\"bgcolor\":\"#E5ECF6\",\"angularaxis\":{\"gridcolor\":\"white\",\"linecolor\":\"white\",\"ticks\":\"\"},\"radialaxis\":{\"gridcolor\":\"white\",\"linecolor\":\"white\",\"ticks\":\"\"}},\"ternary\":{\"bgcolor\":\"#E5ECF6\",\"aaxis\":{\"gridcolor\":\"white\",\"linecolor\":\"white\",\"ticks\":\"\"},\"baxis\":{\"gridcolor\":\"white\",\"linecolor\":\"white\",\"ticks\":\"\"},\"caxis\":{\"gridcolor\":\"white\",\"linecolor\":\"white\",\"ticks\":\"\"}},\"coloraxis\":{\"colorbar\":{\"outlinewidth\":0,\"ticks\":\"\"}},\"colorscale\":{\"sequential\":[[0.0,\"#0d0887\"],[0.1111111111111111,\"#46039f\"],[0.2222222222222222,\"#7201a8\"],[0.3333333333333333,\"#9c179e\"],[0.4444444444444444,\"#bd3786\"],[0.5555555555555556,\"#d8576b\"],[0.6666666666666666,\"#ed7953\"],[0.7777777777777778,\"#fb9f3a\"],[0.8888888888888888,\"#fdca26\"],[1.0,\"#f0f921\"]],\"sequentialminus\":[[0.0,\"#0d0887\"],[0.1111111111111111,\"#46039f\"],[0.2222222222222222,\"#7201a8\"],[0.3333333333333333,\"#9c179e\"],[0.4444444444444444,\"#bd3786\"],[0.5555555555555556,\"#d8576b\"],[0.6666666666666666,\"#ed7953\"],[0.7777777777777778,\"#fb9f3a\"],[0.8888888888888888,\"#fdca26\"],[1.0,\"#f0f921\"]],\"diverging\":[[0,\"#8e0152\"],[0.1,\"#c51b7d\"],[0.2,\"#de77ae\"],[0.3,\"#f1b6da\"],[0.4,\"#fde0ef\"],[0.5,\"#f7f7f7\"],[0.6,\"#e6f5d0\"],[0.7,\"#b8e186\"],[0.8,\"#7fbc41\"],[0.9,\"#4d9221\"],[1,\"#276419\"]]},\"xaxis\":{\"gridcolor\":\"white\",\"linecolor\":\"white\",\"ticks\":\"\",\"title\":{\"standoff\":15},\"zerolinecolor\":\"white\",\"automargin\":true,\"zerolinewidth\":2},\"yaxis\":{\"gridcolor\":\"white\",\"linecolor\":\"white\",\"ticks\":\"\",\"title\":{\"standoff\":15},\"zerolinecolor\":\"white\",\"automargin\":true,\"zerolinewidth\":2},\"scene\":{\"xaxis\":{\"backgroundcolor\":\"#E5ECF6\",\"gridcolor\":\"white\",\"linecolor\":\"white\",\"showbackground\":true,\"ticks\":\"\",\"zerolinecolor\":\"white\",\"gridwidth\":2},\"yaxis\":{\"backgroundcolor\":\"#E5ECF6\",\"gridcolor\":\"white\",\"linecolor\":\"white\",\"showbackground\":true,\"ticks\":\"\",\"zerolinecolor\":\"white\",\"gridwidth\":2},\"zaxis\":{\"backgroundcolor\":\"#E5ECF6\",\"gridcolor\":\"white\",\"linecolor\":\"white\",\"showbackground\":true,\"ticks\":\"\",\"zerolinecolor\":\"white\",\"gridwidth\":2}},\"shapedefaults\":{\"line\":{\"color\":\"#2a3f5f\"}},\"annotationdefaults\":{\"arrowcolor\":\"#2a3f5f\",\"arrowhead\":0,\"arrowwidth\":1},\"geo\":{\"bgcolor\":\"white\",\"landcolor\":\"#E5ECF6\",\"subunitcolor\":\"white\",\"showland\":true,\"showlakes\":true,\"lakecolor\":\"white\"},\"title\":{\"x\":0.05},\"mapbox\":{\"style\":\"light\"}}},\"title\":{\"text\":\"Performance of Different Models Using 5-Fold Cross-Validation\"},\"paper_bgcolor\":\"rgb(243, 243, 243)\",\"plot_bgcolor\":\"rgb(243, 243, 243)\",\"xaxis\":{\"title\":{\"text\":\"Model\"}},\"yaxis\":{\"title\":{\"text\":\"Accuracy\"}},\"showlegend\":false},                        {\"responsive\": true}                    ).then(function(){\n",
              "                            \n",
              "var gd = document.getElementById('a82de8fb-3193-41f2-941b-de86345f142e');\n",
              "var x = new MutationObserver(function (mutations, observer) {{\n",
              "        var display = window.getComputedStyle(gd).display;\n",
              "        if (!display || display === 'none') {{\n",
              "            console.log([gd, 'removed!']);\n",
              "            Plotly.purge(gd);\n",
              "            observer.disconnect();\n",
              "        }}\n",
              "}});\n",
              "\n",
              "// Listen for the removal of the full notebook cells\n",
              "var notebookContainer = gd.closest('#notebook-container');\n",
              "if (notebookContainer) {{\n",
              "    x.observe(notebookContainer, {childList: true});\n",
              "}}\n",
              "\n",
              "// Listen for the clearing of the current output cell\n",
              "var outputEl = gd.closest('.output');\n",
              "if (outputEl) {{\n",
              "    x.observe(outputEl, {childList: true});\n",
              "}}\n",
              "\n",
              "                        })                };                            </script>        </div>\n",
              "</body>\n",
              "</html>"
            ]
          },
          "metadata": {}
        }
      ],
      "source": [
        "#Grafico performance\n",
        "plot_results(model_scores, name='stacking_model_cv')"
      ]
    },
    {
      "cell_type": "code",
      "execution_count": 33,
      "metadata": {
        "colab": {
          "base_uri": "https://localhost:8080/",
          "height": 1000
        },
        "id": "YksUJDcg8Qve",
        "outputId": "d961f6c0-f48f-40e8-b39d-46eba00e879f"
      },
      "outputs": [
        {
          "output_type": "stream",
          "name": "stderr",
          "text": [
            "[Parallel(n_jobs=1)]: Using backend SequentialBackend with 1 concurrent workers.\n",
            "[Parallel(n_jobs=1)]: Done   1 out of   1 | elapsed:    4.1s remaining:    0.0s\n",
            "[Parallel(n_jobs=1)]: Done   5 out of   5 | elapsed:   22.5s finished\n",
            "[Parallel(n_jobs=1)]: Using backend SequentialBackend with 1 concurrent workers.\n",
            "[Parallel(n_jobs=1)]: Done   1 out of   1 | elapsed:   16.4s remaining:    0.0s\n",
            "[Parallel(n_jobs=1)]: Done   5 out of   5 | elapsed:  1.4min finished\n",
            "[Parallel(n_jobs=1)]: Using backend SequentialBackend with 1 concurrent workers.\n",
            "[Parallel(n_jobs=1)]: Done   1 out of   1 | elapsed:   23.9s remaining:    0.0s\n",
            "[Parallel(n_jobs=1)]: Done   5 out of   5 | elapsed:  1.8min finished\n",
            "/usr/local/lib/python3.10/dist-packages/sklearn/linear_model/_logistic.py:458: ConvergenceWarning:\n",
            "\n",
            "lbfgs failed to converge (status=1):\n",
            "STOP: TOTAL NO. of ITERATIONS REACHED LIMIT.\n",
            "\n",
            "Increase the number of iterations (max_iter) or scale the data as shown in:\n",
            "    https://scikit-learn.org/stable/modules/preprocessing.html\n",
            "Please also refer to the documentation for alternative solver options:\n",
            "    https://scikit-learn.org/stable/modules/linear_model.html#logistic-regression\n",
            "\n",
            "/usr/local/lib/python3.10/dist-packages/sklearn/linear_model/_logistic.py:458: ConvergenceWarning:\n",
            "\n",
            "lbfgs failed to converge (status=1):\n",
            "STOP: TOTAL NO. of ITERATIONS REACHED LIMIT.\n",
            "\n",
            "Increase the number of iterations (max_iter) or scale the data as shown in:\n",
            "    https://scikit-learn.org/stable/modules/preprocessing.html\n",
            "Please also refer to the documentation for alternative solver options:\n",
            "    https://scikit-learn.org/stable/modules/linear_model.html#logistic-regression\n",
            "\n",
            "/usr/local/lib/python3.10/dist-packages/sklearn/linear_model/_logistic.py:458: ConvergenceWarning:\n",
            "\n",
            "lbfgs failed to converge (status=1):\n",
            "STOP: TOTAL NO. of ITERATIONS REACHED LIMIT.\n",
            "\n",
            "Increase the number of iterations (max_iter) or scale the data as shown in:\n",
            "    https://scikit-learn.org/stable/modules/preprocessing.html\n",
            "Please also refer to the documentation for alternative solver options:\n",
            "    https://scikit-learn.org/stable/modules/linear_model.html#logistic-regression\n",
            "\n",
            "/usr/local/lib/python3.10/dist-packages/sklearn/linear_model/_logistic.py:458: ConvergenceWarning:\n",
            "\n",
            "lbfgs failed to converge (status=1):\n",
            "STOP: TOTAL NO. of ITERATIONS REACHED LIMIT.\n",
            "\n",
            "Increase the number of iterations (max_iter) or scale the data as shown in:\n",
            "    https://scikit-learn.org/stable/modules/preprocessing.html\n",
            "Please also refer to the documentation for alternative solver options:\n",
            "    https://scikit-learn.org/stable/modules/linear_model.html#logistic-regression\n",
            "\n",
            "/usr/local/lib/python3.10/dist-packages/sklearn/linear_model/_logistic.py:458: ConvergenceWarning:\n",
            "\n",
            "lbfgs failed to converge (status=1):\n",
            "STOP: TOTAL NO. of ITERATIONS REACHED LIMIT.\n",
            "\n",
            "Increase the number of iterations (max_iter) or scale the data as shown in:\n",
            "    https://scikit-learn.org/stable/modules/preprocessing.html\n",
            "Please also refer to the documentation for alternative solver options:\n",
            "    https://scikit-learn.org/stable/modules/linear_model.html#logistic-regression\n",
            "\n",
            "/usr/local/lib/python3.10/dist-packages/sklearn/linear_model/_logistic.py:458: ConvergenceWarning:\n",
            "\n",
            "lbfgs failed to converge (status=1):\n",
            "STOP: TOTAL NO. of ITERATIONS REACHED LIMIT.\n",
            "\n",
            "Increase the number of iterations (max_iter) or scale the data as shown in:\n",
            "    https://scikit-learn.org/stable/modules/preprocessing.html\n",
            "Please also refer to the documentation for alternative solver options:\n",
            "    https://scikit-learn.org/stable/modules/linear_model.html#logistic-regression\n",
            "\n"
          ]
        },
        {
          "output_type": "stream",
          "name": "stdout",
          "text": [
            "              precision    recall  f1-score   support\n",
            "\n",
            "           0       0.87      0.87      0.87      5966\n",
            "           1       0.88      0.88      0.88      6170\n",
            "\n",
            "    accuracy                           0.87     12136\n",
            "   macro avg       0.87      0.87      0.87     12136\n",
            "weighted avg       0.87      0.87      0.87     12136\n",
            "\n",
            "Accuracy: 0.8744232036914964\n",
            "Precision: 0.8773554256010396\n",
            "Recall: 0.8753646677471637\n",
            "f1 score: 0.8763589161122829\n"
          ]
        },
        {
          "output_type": "display_data",
          "data": {
            "text/plain": [
              "<Figure size 640x480 with 2 Axes>"
            ],
            "image/png": "[encoded data removed]"
          },
          "metadata": {}
        }
      ],
      "source": [
        "#Evaluo en conjunto de test\n",
        "#stacking_model.fit(x_train,y_train).score(x_test,y_test)\n",
        "stacking_model.fit(x_train,y_train)\n",
        "y_pred_st = stacking_model.predict(x_test)\n",
        "\n",
        "metricas(y_pred_st,y_test)\n",
        "\n",
        "accuracy=accuracy_score(y_test,y_pred_st)\n",
        "precision=precision_score(y_test,y_pred_st)\n",
        "recall=recall_score(y_test,y_pred_st)\n",
        "f1=f1_score(y_test,y_pred_st)\n",
        "\n",
        "print(\"Accuracy: \"+str(accuracy))\n",
        "print(\"Precision: \"+str(precision))\n",
        "print(\"Recall: \"+str(recall))\n",
        "print(\"f1 score: \"+str(f1))"
      ]
    },
    {
      "cell_type": "markdown",
      "metadata": {
        "id": "47078iuEZ3UP"
      },
      "source": [
        "##Voting"
      ]
    },
    {
      "cell_type": "markdown",
      "metadata": {
        "id": "KedvMNsMZ9bp"
      },
      "source": [
        "El voting combina las predicciones de varios modelos de nivel inferior en una sola predicción. Se utilizan diferentes métodos de votación, como la votación suave o la votación dura. En la votación suave, se toma el promedio de las predicciones de probabilidad de los modelos de nivel inferior. En la votación dura, se toma la predicción más frecuente de los modelos de nivel inferior."
      ]
    },
    {
      "cell_type": "code",
      "execution_count": 34,
      "metadata": {
        "colab": {
          "base_uri": "https://localhost:8080/",
          "height": 689
        },
        "id": "tVY-4Bdq8aiI",
        "outputId": "a0f12df1-cf93-458f-a387-6d0fa6f0cc1e"
      },
      "outputs": [
        {
          "output_type": "stream",
          "name": "stdout",
          "text": [
            "              precision    recall  f1-score   support\n",
            "\n",
            "           0       0.87      0.88      0.88      5966\n",
            "           1       0.88      0.87      0.88      6170\n",
            "\n",
            "    accuracy                           0.88     12136\n",
            "   macro avg       0.88      0.88      0.88     12136\n",
            "weighted avg       0.88      0.88      0.88     12136\n",
            "\n",
            "Accuracy: 0.876977587343441\n",
            "Precision: 0.8829212379236941\n",
            "Recall: 0.8739059967585089\n",
            "f1 score: 0.8783904862751487\n"
          ]
        },
        {
          "output_type": "display_data",
          "data": {
            "text/plain": [
              "<Figure size 640x480 with 2 Axes>"
            ],
            "image/png": "[encoded data removed]"
          },
          "metadata": {}
        }
      ],
      "source": [
        "#Creo clasificadores\n",
        "\n",
        "log_clf = LogisticRegression(max_iter=4000)\n",
        "rnd_clf = RandomForestClassifier(max_features='auto', \n",
        "                             oob_score=True, \n",
        "                             random_state=2, \n",
        "                             n_jobs=-1,\n",
        "                             criterion=\"entropy\", \n",
        "                             min_samples_leaf=1,\n",
        "                             min_samples_split=3,\n",
        "                             n_estimators=80)\n",
        "xgb_clf = xgb.XGBClassifier(random_state=0, eta=0.5, n_estimators=100, max_depth=11, colsample_bytree=1, subsample=1, objective='reg:logistic')\n",
        "\n",
        "#Creo ensemble de Votación\n",
        "vot_clf = VotingClassifier(estimators = [('lr', log_clf), ('rnd', rnd_clf), ('xgb',xgb_clf)], voting = 'hard')\n",
        "\n",
        "#Entreno el ensemble\n",
        "vot_clf.fit(x_train, y_train)\n",
        "\n",
        "#Evaluo en conjunto de test\n",
        "y_pred = vot_clf.predict(x_test)\n",
        "metricas(y_pred,y_test)\n",
        "\n",
        "accuracy=accuracy_score(y_test,y_pred)\n",
        "precision=precision_score(y_test,y_pred)\n",
        "recall=recall_score(y_test,y_pred)\n",
        "f1=f1_score(y_test,y_pred)\n",
        "\n",
        "print(\"Accuracy: \"+str(accuracy))\n",
        "print(\"Precision: \"+str(precision))\n",
        "print(\"Recall: \"+str(recall))\n",
        "print(\"f1 score: \"+str(f1))"
      ]
    },
    {
      "cell_type": "markdown",
      "metadata": {
        "id": "NF-FAWIYfN1c"
      },
      "source": [
        "##Submission stacking"
      ]
    },
    {
      "cell_type": "markdown",
      "metadata": {
        "id": "s1Y1nHubbImt"
      },
      "source": [
        "Ya que obtuvimos métricas muy similares en stacking y voting, decidimos realizar las predicciones con un solo clasificador. Utilizaremos stacking."
      ]
    },
    {
      "cell_type": "markdown",
      "metadata": {
        "id": "tBaSQrpma754"
      },
      "source": [
        "* Predicciones en el dataframe test."
      ]
    },
    {
      "cell_type": "code",
      "execution_count": 35,
      "metadata": {
        "id": "0peEVA4kfVhD"
      },
      "outputs": [],
      "source": [
        "y_pred = stacking_model.predict(hotels_test_)\n",
        "df_submission = pd.DataFrame({'id': hotels_test['id'], 'is_canceled': y_pred})\n",
        "df_submission.to_csv(\"submission_stacking.csv\", index=False)"
      ]
    }
  ],
  "metadata": {
    "colab": {
      "toc_visible": true,
      "provenance": [],
      "include_colab_link": true
    },
    "kernelspec": {
      "display_name": "Python 3",
      "name": "python3"
    },
    "language_info": {
      "name": "python"
    }
  },
  "nbformat": 4,
  "nbformat_minor": 0
}